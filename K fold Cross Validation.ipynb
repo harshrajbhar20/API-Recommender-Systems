{
 "cells": [
  {
   "cell_type": "markdown",
   "id": "20301286",
   "metadata": {},
   "source": [
    "## Importing libraries"
   ]
  },
  {
   "cell_type": "code",
   "execution_count": 16,
   "id": "d13a66b6",
   "metadata": {},
   "outputs": [],
   "source": [
    "from time import time\n",
    "import pandas as pd\n",
    "import numpy as np\n",
    "from sklearn.model_selection import KFold\n",
    "from sklearn.preprocessing import MinMaxScaler\n",
    "from sklearn.metrics import accuracy_score, classification_report,confusion_matrix"
   ]
  },
  {
   "cell_type": "code",
   "execution_count": 17,
   "id": "c5273d26",
   "metadata": {},
   "outputs": [],
   "source": [
    "from statistics import mean"
   ]
  },
  {
   "cell_type": "markdown",
   "id": "346991a9",
   "metadata": {},
   "source": [
    "### Loading dataset"
   ]
  },
  {
   "cell_type": "code",
   "execution_count": 18,
   "id": "2cbcd5c2",
   "metadata": {},
   "outputs": [
    {
     "data": {
      "text/html": [
       "<div>\n",
       "<style scoped>\n",
       "    .dataframe tbody tr th:only-of-type {\n",
       "        vertical-align: middle;\n",
       "    }\n",
       "\n",
       "    .dataframe tbody tr th {\n",
       "        vertical-align: top;\n",
       "    }\n",
       "\n",
       "    .dataframe thead th {\n",
       "        text-align: right;\n",
       "    }\n",
       "</style>\n",
       "<table border=\"1\" class=\"dataframe\">\n",
       "  <thead>\n",
       "    <tr style=\"text-align: right;\">\n",
       "      <th></th>\n",
       "      <th>0</th>\n",
       "      <th>1</th>\n",
       "      <th>2</th>\n",
       "      <th>3</th>\n",
       "      <th>4</th>\n",
       "      <th>5</th>\n",
       "      <th>6</th>\n",
       "      <th>7</th>\n",
       "      <th>8</th>\n",
       "      <th>9</th>\n",
       "      <th>10</th>\n",
       "      <th>11</th>\n",
       "    </tr>\n",
       "  </thead>\n",
       "  <tbody>\n",
       "    <tr>\n",
       "      <th>0</th>\n",
       "      <td>7</td>\n",
       "      <td>21</td>\n",
       "      <td>30</td>\n",
       "      <td>2</td>\n",
       "      <td>3</td>\n",
       "      <td>29</td>\n",
       "      <td>2</td>\n",
       "      <td>3</td>\n",
       "      <td>57</td>\n",
       "      <td>5</td>\n",
       "      <td>1</td>\n",
       "      <td>0</td>\n",
       "    </tr>\n",
       "    <tr>\n",
       "      <th>1</th>\n",
       "      <td>7</td>\n",
       "      <td>32</td>\n",
       "      <td>70</td>\n",
       "      <td>2</td>\n",
       "      <td>4</td>\n",
       "      <td>67</td>\n",
       "      <td>2</td>\n",
       "      <td>4</td>\n",
       "      <td>132</td>\n",
       "      <td>5</td>\n",
       "      <td>1</td>\n",
       "      <td>0</td>\n",
       "    </tr>\n",
       "    <tr>\n",
       "      <th>2</th>\n",
       "      <td>7</td>\n",
       "      <td>15</td>\n",
       "      <td>1</td>\n",
       "      <td>2</td>\n",
       "      <td>2</td>\n",
       "      <td>0</td>\n",
       "      <td>2</td>\n",
       "      <td>2</td>\n",
       "      <td>0</td>\n",
       "      <td>5</td>\n",
       "      <td>1</td>\n",
       "      <td>0</td>\n",
       "    </tr>\n",
       "    <tr>\n",
       "      <th>3</th>\n",
       "      <td>7</td>\n",
       "      <td>33</td>\n",
       "      <td>77</td>\n",
       "      <td>2</td>\n",
       "      <td>7</td>\n",
       "      <td>72</td>\n",
       "      <td>2</td>\n",
       "      <td>7</td>\n",
       "      <td>142</td>\n",
       "      <td>5</td>\n",
       "      <td>1</td>\n",
       "      <td>0</td>\n",
       "    </tr>\n",
       "    <tr>\n",
       "      <th>4</th>\n",
       "      <td>7</td>\n",
       "      <td>55</td>\n",
       "      <td>78</td>\n",
       "      <td>3</td>\n",
       "      <td>7</td>\n",
       "      <td>73</td>\n",
       "      <td>3</td>\n",
       "      <td>7</td>\n",
       "      <td>144</td>\n",
       "      <td>6</td>\n",
       "      <td>1</td>\n",
       "      <td>0</td>\n",
       "    </tr>\n",
       "  </tbody>\n",
       "</table>\n",
       "</div>"
      ],
      "text/plain": [
       "   0   1   2  3  4   5  6  7    8  9  10  11\n",
       "0  7  21  30  2  3  29  2  3   57  5   1   0\n",
       "1  7  32  70  2  4  67  2  4  132  5   1   0\n",
       "2  7  15   1  2  2   0  2  2    0  5   1   0\n",
       "3  7  33  77  2  7  72  2  7  142  5   1   0\n",
       "4  7  55  78  3  7  73  3  7  144  6   1   0"
      ]
     },
     "execution_count": 18,
     "metadata": {},
     "output_type": "execute_result"
    }
   ],
   "source": [
    "data = pd.read_csv('dataset.csv')\n",
    "data.head()"
   ]
  },
  {
   "cell_type": "code",
   "execution_count": 19,
   "id": "c48e9919",
   "metadata": {},
   "outputs": [
    {
     "data": {
      "text/plain": [
       "(array([[  21,   30,    2, ...,    5,    1,    0],\n",
       "        [  32,   70,    2, ...,    5,    1,    0],\n",
       "        [  15,    1,    2, ...,    5,    1,    0],\n",
       "        ...,\n",
       "        [  82,   14,    7, ...,    1,    0,    1],\n",
       "        [  30,   62,    2, ...,    3,    0,    0],\n",
       "        [  30,   62,    2, ...,    7,    0, 9156]], dtype=int64),\n",
       " array([7, 7, 7, ..., 7, 7, 7], dtype=int64))"
      ]
     },
     "execution_count": 19,
     "metadata": {},
     "output_type": "execute_result"
    }
   ],
   "source": [
    "y = data.iloc[:,0].values\n",
    "x = data.iloc[:,1:].values\n",
    "x,y"
   ]
  },
  {
   "cell_type": "markdown",
   "id": "998360fc",
   "metadata": {},
   "source": [
    "### Splitting the dataset into training and testing"
   ]
  },
  {
   "cell_type": "code",
   "execution_count": 20,
   "id": "afeafed6",
   "metadata": {},
   "outputs": [],
   "source": [
    "from sklearn.model_selection import train_test_split"
   ]
  },
  {
   "cell_type": "code",
   "execution_count": 21,
   "id": "8e8aafe7",
   "metadata": {},
   "outputs": [],
   "source": [
    "x_train,x_test,y_train,y_test = train_test_split(x,y,test_size=0.25)"
   ]
  },
  {
   "cell_type": "markdown",
   "id": "cf3d5f96",
   "metadata": {},
   "source": [
    "### Scaling the dataset "
   ]
  },
  {
   "cell_type": "code",
   "execution_count": 22,
   "id": "c603be09",
   "metadata": {},
   "outputs": [],
   "source": [
    "sc = MinMaxScaler()\n",
    "x_sc = sc.fit_transform(x)\n",
    "x_test_sc = sc.transform(x_test)"
   ]
  },
  {
   "cell_type": "code",
   "execution_count": 23,
   "id": "f74565de",
   "metadata": {},
   "outputs": [
    {
     "data": {
      "text/plain": [
       "array([[2.53012048e-01, 3.40909091e-01, 2.85714286e-01, ...,\n",
       "        5.00000000e-01, 5.00000000e-01, 0.00000000e+00],\n",
       "       [3.85542169e-01, 7.95454545e-01, 2.85714286e-01, ...,\n",
       "        5.00000000e-01, 5.00000000e-01, 0.00000000e+00],\n",
       "       [1.80722892e-01, 1.13636364e-02, 2.85714286e-01, ...,\n",
       "        5.00000000e-01, 5.00000000e-01, 0.00000000e+00],\n",
       "       ...,\n",
       "       [9.87951807e-01, 1.59090909e-01, 1.00000000e+00, ...,\n",
       "        1.00000000e-01, 0.00000000e+00, 9.42951438e-05],\n",
       "       [3.61445783e-01, 7.04545455e-01, 2.85714286e-01, ...,\n",
       "        3.00000000e-01, 0.00000000e+00, 0.00000000e+00],\n",
       "       [3.61445783e-01, 7.04545455e-01, 2.85714286e-01, ...,\n",
       "        7.00000000e-01, 0.00000000e+00, 8.63366337e-01]])"
      ]
     },
     "execution_count": 23,
     "metadata": {},
     "output_type": "execute_result"
    }
   ],
   "source": [
    "x_sc"
   ]
  },
  {
   "cell_type": "code",
   "execution_count": 24,
   "id": "66ec4a52",
   "metadata": {},
   "outputs": [],
   "source": [
    "target_names = ['DoSattack','dataProbing','malitiousControl', 'malitiousOperation','scan','spying', 'wrongSetUp','Normal']"
   ]
  },
  {
   "cell_type": "code",
   "execution_count": 25,
   "id": "98020869",
   "metadata": {},
   "outputs": [
    {
     "data": {
      "text/plain": [
       "['DoSattack',\n",
       " 'dataProbing',\n",
       " 'malitiousControl',\n",
       " 'malitiousOperation',\n",
       " 'scan',\n",
       " 'spying',\n",
       " 'wrongSetUp',\n",
       " 'Normal']"
      ]
     },
     "execution_count": 25,
     "metadata": {},
     "output_type": "execute_result"
    }
   ],
   "source": [
    "target_names"
   ]
  },
  {
   "cell_type": "markdown",
   "id": "12faa44f",
   "metadata": {},
   "source": [
    "# Applying Machine Learning Algorithms"
   ]
  },
  {
   "cell_type": "markdown",
   "id": "8366102a",
   "metadata": {},
   "source": [
    "## Applying Logistic Regression"
   ]
  },
  {
   "cell_type": "code",
   "execution_count": 26,
   "id": "6a86eacc",
   "metadata": {},
   "outputs": [],
   "source": [
    "from sklearn.linear_model import LogisticRegression"
   ]
  },
  {
   "cell_type": "code",
   "execution_count": 27,
   "id": "c47cf469",
   "metadata": {},
   "outputs": [
    {
     "name": "stdout",
     "output_type": "stream",
     "text": [
      "Train Index:  [ 71179  71180  71181 ... 355888 355889 355890] \n",
      "\n",
      "Test Index:  [    0     1     2 ... 71176 71177 71178]\n"
     ]
    },
    {
     "name": "stderr",
     "output_type": "stream",
     "text": [
      "c:\\users\\hebbar\\appdata\\local\\programs\\python\\python39\\lib\\site-packages\\sklearn\\linear_model\\_logistic.py:814: ConvergenceWarning: lbfgs failed to converge (status=1):\n",
      "STOP: TOTAL NO. of ITERATIONS REACHED LIMIT.\n",
      "\n",
      "Increase the number of iterations (max_iter) or scale the data as shown in:\n",
      "    https://scikit-learn.org/stable/modules/preprocessing.html\n",
      "Please also refer to the documentation for alternative solver options:\n",
      "    https://scikit-learn.org/stable/modules/linear_model.html#logistic-regression\n",
      "  n_iter_i = _check_optimize_result(\n"
     ]
    },
    {
     "name": "stdout",
     "output_type": "stream",
     "text": [
      "Train Index:  [     0      1      2 ... 355888 355889 355890] \n",
      "\n",
      "Test Index:  [ 71179  71180  71181 ... 142354 142355 142356]\n"
     ]
    },
    {
     "name": "stderr",
     "output_type": "stream",
     "text": [
      "c:\\users\\hebbar\\appdata\\local\\programs\\python\\python39\\lib\\site-packages\\sklearn\\linear_model\\_logistic.py:814: ConvergenceWarning: lbfgs failed to converge (status=1):\n",
      "STOP: TOTAL NO. of ITERATIONS REACHED LIMIT.\n",
      "\n",
      "Increase the number of iterations (max_iter) or scale the data as shown in:\n",
      "    https://scikit-learn.org/stable/modules/preprocessing.html\n",
      "Please also refer to the documentation for alternative solver options:\n",
      "    https://scikit-learn.org/stable/modules/linear_model.html#logistic-regression\n",
      "  n_iter_i = _check_optimize_result(\n"
     ]
    },
    {
     "name": "stdout",
     "output_type": "stream",
     "text": [
      "Train Index:  [     0      1      2 ... 355888 355889 355890] \n",
      "\n",
      "Test Index:  [142357 142358 142359 ... 213532 213533 213534]\n"
     ]
    },
    {
     "name": "stderr",
     "output_type": "stream",
     "text": [
      "c:\\users\\hebbar\\appdata\\local\\programs\\python\\python39\\lib\\site-packages\\sklearn\\linear_model\\_logistic.py:814: ConvergenceWarning: lbfgs failed to converge (status=1):\n",
      "STOP: TOTAL NO. of ITERATIONS REACHED LIMIT.\n",
      "\n",
      "Increase the number of iterations (max_iter) or scale the data as shown in:\n",
      "    https://scikit-learn.org/stable/modules/preprocessing.html\n",
      "Please also refer to the documentation for alternative solver options:\n",
      "    https://scikit-learn.org/stable/modules/linear_model.html#logistic-regression\n",
      "  n_iter_i = _check_optimize_result(\n"
     ]
    },
    {
     "name": "stdout",
     "output_type": "stream",
     "text": [
      "Train Index:  [     0      1      2 ... 355888 355889 355890] \n",
      "\n",
      "Test Index:  [213535 213536 213537 ... 284710 284711 284712]\n"
     ]
    },
    {
     "name": "stderr",
     "output_type": "stream",
     "text": [
      "c:\\users\\hebbar\\appdata\\local\\programs\\python\\python39\\lib\\site-packages\\sklearn\\linear_model\\_logistic.py:814: ConvergenceWarning: lbfgs failed to converge (status=1):\n",
      "STOP: TOTAL NO. of ITERATIONS REACHED LIMIT.\n",
      "\n",
      "Increase the number of iterations (max_iter) or scale the data as shown in:\n",
      "    https://scikit-learn.org/stable/modules/preprocessing.html\n",
      "Please also refer to the documentation for alternative solver options:\n",
      "    https://scikit-learn.org/stable/modules/linear_model.html#logistic-regression\n",
      "  n_iter_i = _check_optimize_result(\n"
     ]
    },
    {
     "name": "stdout",
     "output_type": "stream",
     "text": [
      "Train Index:  [     0      1      2 ... 284710 284711 284712] \n",
      "\n",
      "Test Index:  [284713 284714 284715 ... 355888 355889 355890]\n",
      "Time elapsed 171.04658126831055\n"
     ]
    },
    {
     "name": "stderr",
     "output_type": "stream",
     "text": [
      "c:\\users\\hebbar\\appdata\\local\\programs\\python\\python39\\lib\\site-packages\\sklearn\\linear_model\\_logistic.py:814: ConvergenceWarning: lbfgs failed to converge (status=1):\n",
      "STOP: TOTAL NO. of ITERATIONS REACHED LIMIT.\n",
      "\n",
      "Increase the number of iterations (max_iter) or scale the data as shown in:\n",
      "    https://scikit-learn.org/stable/modules/preprocessing.html\n",
      "Please also refer to the documentation for alternative solver options:\n",
      "    https://scikit-learn.org/stable/modules/linear_model.html#logistic-regression\n",
      "  n_iter_i = _check_optimize_result(\n"
     ]
    }
   ],
   "source": [
    "\n",
    "lr_training_scores = []\n",
    "lr_testing_scores = []\n",
    "best_lr = LogisticRegression(multi_class = 'multinomial')\n",
    "cv = KFold(n_splits=5, shuffle=False)\n",
    "s = time()\n",
    "for train_index, test_index in cv.split(x_sc):\n",
    "    print(\"Train Index: \", train_index, \"\\n\")\n",
    "    print(\"Test Index: \", test_index)\n",
    "\n",
    "    X_train, X_test, y_train, y_test = x_sc[train_index], x_sc[test_index], y[train_index], y[test_index]\n",
    "    best_lr.fit(X_train, y_train)\n",
    "    lr_training_scores.append(best_lr.score(X_train, y_train))\n",
    "    lr_testing_scores.append(best_lr.score(X_test, y_test))\n",
    "lr_time = time()-s\n",
    "print(\"Time elapsed\",lr_time)"
   ]
  },
  {
   "cell_type": "markdown",
   "id": "8cb4545c",
   "metadata": {},
   "source": [
    "#### training accuracy scores of 5 fold are"
   ]
  },
  {
   "cell_type": "code",
   "execution_count": 28,
   "id": "b8aded6e",
   "metadata": {},
   "outputs": [
    {
     "data": {
      "text/plain": [
       "[0.9953356374160556,\n",
       " 0.9860982814272619,\n",
       " 0.986512733875868,\n",
       " 0.9874926680551994,\n",
       " 0.9865935169802573]"
      ]
     },
     "execution_count": 28,
     "metadata": {},
     "output_type": "execute_result"
    }
   ],
   "source": [
    "lr_training_scores"
   ]
  },
  {
   "cell_type": "markdown",
   "id": "4e40708f",
   "metadata": {},
   "source": [
    "#### testing accuracy scores of 5 fold are"
   ]
  },
  {
   "cell_type": "code",
   "execution_count": 29,
   "id": "2293f9ba",
   "metadata": {},
   "outputs": [
    {
     "data": {
      "text/plain": [
       "[0.9579089338147487,\n",
       " 0.9936216246593048,\n",
       " 0.9965298266318244,\n",
       " 0.9773806513248475,\n",
       " 0.9645255556492175]"
      ]
     },
     "execution_count": 29,
     "metadata": {},
     "output_type": "execute_result"
    }
   ],
   "source": [
    "lr_testing_scores"
   ]
  },
  {
   "cell_type": "code",
   "execution_count": 30,
   "id": "5e6daadd",
   "metadata": {},
   "outputs": [
    {
     "name": "stdout",
     "output_type": "stream",
     "text": [
      "Average Accuracy for training data is :  0.9884065675509285\n",
      "Max Accuracy for training data is :  0.9953356374160556\n",
      "Average Accuracy for testing data is :  0.9779933184159886\n",
      "Max Accuracy for testing data is :  0.9965298266318244\n"
     ]
    }
   ],
   "source": [
    "lr_avg_train = mean(lr_training_scores)\n",
    "lr_avg_test = mean(lr_testing_scores)\n",
    "lr_max_train = max(lr_training_scores)\n",
    "lr_max_test = max(lr_testing_scores)\n",
    "print(\"Average Accuracy for training data is : \",lr_avg_train)\n",
    "print(\"Max Accuracy for training data is : \",lr_max_train)\n",
    "print(\"Average Accuracy for testing data is : \",lr_avg_test)\n",
    "print(\"Max Accuracy for testing data is : \",lr_max_test)"
   ]
  },
  {
   "cell_type": "markdown",
   "id": "9ff9aa62",
   "metadata": {},
   "source": [
    "## K Nearest Neigbour"
   ]
  },
  {
   "cell_type": "code",
   "execution_count": 31,
   "id": "1ca04441",
   "metadata": {},
   "outputs": [],
   "source": [
    "from sklearn.neighbors import KNeighborsClassifier"
   ]
  },
  {
   "cell_type": "code",
   "execution_count": 32,
   "id": "bec84939",
   "metadata": {},
   "outputs": [
    {
     "name": "stdout",
     "output_type": "stream",
     "text": [
      "Train Index:  [ 71179  71180  71181 ... 355888 355889 355890] \n",
      "\n",
      "Test Index:  [    0     1     2 ... 71176 71177 71178]\n",
      "Train Index:  [     0      1      2 ... 355888 355889 355890] \n",
      "\n",
      "Test Index:  [ 71179  71180  71181 ... 142354 142355 142356]\n",
      "Train Index:  [     0      1      2 ... 355888 355889 355890] \n",
      "\n",
      "Test Index:  [142357 142358 142359 ... 213532 213533 213534]\n",
      "Train Index:  [     0      1      2 ... 355888 355889 355890] \n",
      "\n",
      "Test Index:  [213535 213536 213537 ... 284710 284711 284712]\n",
      "Train Index:  [     0      1      2 ... 284710 284711 284712] \n",
      "\n",
      "Test Index:  [284713 284714 284715 ... 355888 355889 355890]\n",
      "Time elapsed 414.87525057792664\n"
     ]
    }
   ],
   "source": [
    "\n",
    "knn_training_scores = []\n",
    "knn_testing_scores = []\n",
    "best_knn = KNeighborsClassifier(n_neighbors = 9)\n",
    "cv = KFold(n_splits=5, shuffle=False)\n",
    "s = time()\n",
    "for train_index, test_index in cv.split(x_sc):\n",
    "    print(\"Train Index: \", train_index, \"\\n\")\n",
    "    print(\"Test Index: \", test_index)\n",
    "\n",
    "    X_train, X_test, y_train, y_test = x_sc[train_index], x_sc[test_index], y[train_index], y[test_index]\n",
    "    best_knn.fit(X_train, y_train)\n",
    "    knn_training_scores.append(best_knn.score(X_train, y_train))\n",
    "    knn_testing_scores.append(best_knn.score(X_test, y_test))\n",
    "knn_time = time()-s\n",
    "print(\"Time elapsed\",knn_time)"
   ]
  },
  {
   "cell_type": "markdown",
   "id": "ac88c1e0",
   "metadata": {},
   "source": [
    "### training accuracy scores of 5 fold"
   ]
  },
  {
   "cell_type": "code",
   "execution_count": 33,
   "id": "4ae98d27",
   "metadata": {},
   "outputs": [
    {
     "data": {
      "text/plain": [
       "[0.9999824383938858,\n",
       " 0.9929402591381497,\n",
       " 0.9929507960648091,\n",
       " 0.9929578206825821,\n",
       " 0.9929578206825821]"
      ]
     },
     "execution_count": 33,
     "metadata": {},
     "output_type": "execute_result"
    }
   ],
   "source": [
    "knn_training_scores"
   ]
  },
  {
   "cell_type": "markdown",
   "id": "97c00e6a",
   "metadata": {},
   "source": [
    "### training accuracy scores of 5 fold"
   ]
  },
  {
   "cell_type": "code",
   "execution_count": 34,
   "id": "f501b275",
   "metadata": {},
   "outputs": [
    {
     "data": {
      "text/plain": [
       "[0.9587799772404783,\n",
       " 0.9945207788923544,\n",
       " 0.9988339093540138,\n",
       " 0.9805417404254123,\n",
       " 0.9708336845654556]"
      ]
     },
     "execution_count": 34,
     "metadata": {},
     "output_type": "execute_result"
    }
   ],
   "source": [
    "knn_testing_scores"
   ]
  },
  {
   "cell_type": "code",
   "execution_count": 35,
   "id": "9c371c9b",
   "metadata": {},
   "outputs": [
    {
     "name": "stdout",
     "output_type": "stream",
     "text": [
      "Average Accuracy for training data is :  0.9943578269924017\n",
      "Max Accuracy for training data is :  0.9999824383938858\n",
      "Average Accuracy for testing data is :  0.9807020180955429\n",
      "Max Accuracy for testing data is :  0.9988339093540138\n"
     ]
    }
   ],
   "source": [
    "knn_avg_train = mean(knn_training_scores)\n",
    "knn_avg_test = mean(knn_testing_scores)\n",
    "knn_max_train = max(knn_training_scores)\n",
    "knn_max_test = max(knn_testing_scores)\n",
    "print(\"Average Accuracy for training data is : \",knn_avg_train)\n",
    "print(\"Max Accuracy for training data is : \",knn_max_train)\n",
    "print(\"Average Accuracy for testing data is : \",knn_avg_test)\n",
    "print(\"Max Accuracy for testing data is : \",knn_max_test)"
   ]
  },
  {
   "cell_type": "markdown",
   "id": "91dbe837",
   "metadata": {},
   "source": [
    "## Decision Tree"
   ]
  },
  {
   "cell_type": "code",
   "execution_count": 36,
   "id": "40987410",
   "metadata": {},
   "outputs": [],
   "source": [
    "from sklearn.tree import DecisionTreeClassifier"
   ]
  },
  {
   "cell_type": "code",
   "execution_count": 37,
   "id": "f8d069b6",
   "metadata": {},
   "outputs": [
    {
     "name": "stdout",
     "output_type": "stream",
     "text": [
      "Train Index:  [ 71179  71180  71181 ... 355888 355889 355890] \n",
      "\n",
      "Test Index:  [    0     1     2 ... 71176 71177 71178]\n",
      "Train Index:  [     0      1      2 ... 355888 355889 355890] \n",
      "\n",
      "Test Index:  [ 71179  71180  71181 ... 142354 142355 142356]\n",
      "Train Index:  [     0      1      2 ... 355888 355889 355890] \n",
      "\n",
      "Test Index:  [142357 142358 142359 ... 213532 213533 213534]\n",
      "Train Index:  [     0      1      2 ... 355888 355889 355890] \n",
      "\n",
      "Test Index:  [213535 213536 213537 ... 284710 284711 284712]\n",
      "Train Index:  [     0      1      2 ... 284710 284711 284712] \n",
      "\n",
      "Test Index:  [284713 284714 284715 ... 355888 355889 355890]\n",
      "Time elapsed 5.678420066833496\n"
     ]
    }
   ],
   "source": [
    "\n",
    "dtc_training_scores = []\n",
    "dtc_testing_scores = []\n",
    "best_dtc = DecisionTreeClassifier()\n",
    "cv = KFold(n_splits=5, shuffle=False)\n",
    "s = time()\n",
    "for train_index, test_index in cv.split(x_sc):\n",
    "    print(\"Train Index: \", train_index, \"\\n\")\n",
    "    print(\"Test Index: \", test_index)\n",
    "\n",
    "    X_train, X_test, y_train, y_test = x_sc[train_index], x_sc[test_index], y[train_index], y[test_index]\n",
    "    best_dtc.fit(X_train, y_train)\n",
    "    dtc_training_scores.append(best_dtc.score(X_train, y_train))\n",
    "    dtc_testing_scores.append(best_dtc.score(X_test, y_test))\n",
    "dtc_time = time()-s\n",
    "print(\"Time elapsed\",dtc_time)"
   ]
  },
  {
   "cell_type": "markdown",
   "id": "9699f42d",
   "metadata": {},
   "source": [
    "### training accuracy scores for 5 fold "
   ]
  },
  {
   "cell_type": "code",
   "execution_count": 38,
   "id": "e7add0fe",
   "metadata": {},
   "outputs": [
    {
     "data": {
      "text/plain": [
       "[1.0,\n",
       " 0.9940150256574164,\n",
       " 0.9932317807757285,\n",
       " 0.9938604840664107,\n",
       " 0.9932669038645935]"
      ]
     },
     "execution_count": 38,
     "metadata": {},
     "output_type": "execute_result"
    }
   ],
   "source": [
    "dtc_training_scores"
   ]
  },
  {
   "cell_type": "markdown",
   "id": "2ef5d084",
   "metadata": {},
   "source": [
    "### training accuracy scores of 5 fold"
   ]
  },
  {
   "cell_type": "code",
   "execution_count": 39,
   "id": "4f578259",
   "metadata": {},
   "outputs": [
    {
     "data": {
      "text/plain": [
       "[0.961196420292502,\n",
       " 0.9872994464581752,\n",
       " 0.9938604625024586,\n",
       " 0.9730815701480795,\n",
       " 0.9662255191210768]"
      ]
     },
     "execution_count": 39,
     "metadata": {},
     "output_type": "execute_result"
    }
   ],
   "source": [
    "dtc_testing_scores"
   ]
  },
  {
   "cell_type": "code",
   "execution_count": 40,
   "id": "8b77f825",
   "metadata": {},
   "outputs": [
    {
     "name": "stdout",
     "output_type": "stream",
     "text": [
      "Average Accuracy for training data is :  0.9948748388728298\n",
      "Max Accuracy for training data is :  1.0\n",
      "Average Accuracy for testing data is :  0.9763326837044585\n",
      "Max Accuracy for testing data is :  0.9938604625024586\n"
     ]
    }
   ],
   "source": [
    "dtc_avg_train = mean(dtc_training_scores)\n",
    "dtc_avg_test = mean(dtc_testing_scores)\n",
    "dtc_max_train = max(dtc_training_scores)\n",
    "dtc_max_test = max(dtc_testing_scores)\n",
    "print(\"Average Accuracy for training data is : \",dtc_avg_train)\n",
    "print(\"Max Accuracy for training data is : \",dtc_max_train)\n",
    "print(\"Average Accuracy for testing data is : \",dtc_avg_test)\n",
    "print(\"Max Accuracy for testing data is : \",dtc_max_test)"
   ]
  },
  {
   "cell_type": "markdown",
   "id": "95ad7feb",
   "metadata": {},
   "source": [
    "## Random Forest"
   ]
  },
  {
   "cell_type": "code",
   "execution_count": 41,
   "id": "cab8d400",
   "metadata": {},
   "outputs": [],
   "source": [
    "from sklearn.ensemble import RandomForestClassifier"
   ]
  },
  {
   "cell_type": "code",
   "execution_count": 42,
   "id": "959deb9c",
   "metadata": {},
   "outputs": [
    {
     "name": "stdout",
     "output_type": "stream",
     "text": [
      "Train Index:  [ 71179  71180  71181 ... 355888 355889 355890] \n",
      "\n",
      "Test Index:  [    0     1     2 ... 71176 71177 71178]\n",
      "Train Index:  [     0      1      2 ... 355888 355889 355890] \n",
      "\n",
      "Test Index:  [ 71179  71180  71181 ... 142354 142355 142356]\n",
      "Train Index:  [     0      1      2 ... 355888 355889 355890] \n",
      "\n",
      "Test Index:  [142357 142358 142359 ... 213532 213533 213534]\n",
      "Train Index:  [     0      1      2 ... 355888 355889 355890] \n",
      "\n",
      "Test Index:  [213535 213536 213537 ... 284710 284711 284712]\n",
      "Train Index:  [     0      1      2 ... 284710 284711 284712] \n",
      "\n",
      "Test Index:  [284713 284714 284715 ... 355888 355889 355890]\n",
      "Time elapsed 181.1163523197174\n"
     ]
    }
   ],
   "source": [
    "\n",
    "rf_training_scores = []\n",
    "rf_testing_scores = []\n",
    "best_rf = RandomForestClassifier()\n",
    "cv = KFold(n_splits=5, shuffle=False)\n",
    "s = time()\n",
    "for train_index, test_index in cv.split(x_sc):\n",
    "    print(\"Train Index: \", train_index, \"\\n\")\n",
    "    print(\"Test Index: \", test_index)\n",
    "\n",
    "    X_train, X_test, y_train, y_test = x_sc[train_index], x_sc[test_index], y[train_index], y[test_index]\n",
    "    best_rf.fit(X_train, y_train)\n",
    "    rf_training_scores.append(best_rf.score(X_train, y_train))\n",
    "    rf_testing_scores.append(best_rf.score(X_test, y_test))\n",
    "rf_time = time()-s\n",
    "print(\"Time elapsed\",rf_time)"
   ]
  },
  {
   "cell_type": "markdown",
   "id": "2565f069",
   "metadata": {},
   "source": [
    "### training accuracy scores for 5 fold "
   ]
  },
  {
   "cell_type": "code",
   "execution_count": 43,
   "id": "09c90962",
   "metadata": {},
   "outputs": [
    {
     "data": {
      "text/plain": [
       "[1.0,\n",
       " 0.9940150256574164,\n",
       " 0.9932317807757285,\n",
       " 0.9938604840664107,\n",
       " 0.9932669038645935]"
      ]
     },
     "execution_count": 43,
     "metadata": {},
     "output_type": "execute_result"
    }
   ],
   "source": [
    "rf_training_scores"
   ]
  },
  {
   "cell_type": "markdown",
   "id": "0d1a476d",
   "metadata": {},
   "source": [
    "### training accuracy scores of 5 fold"
   ]
  },
  {
   "cell_type": "code",
   "execution_count": 44,
   "id": "df362932",
   "metadata": {},
   "outputs": [
    {
     "data": {
      "text/plain": [
       "[0.9588361735905253,\n",
       " 0.9865126865042569,\n",
       " 0.9938604625024586,\n",
       " 0.9730815701480795,\n",
       " 0.9662536176908595]"
      ]
     },
     "execution_count": 44,
     "metadata": {},
     "output_type": "execute_result"
    }
   ],
   "source": [
    "rf_testing_scores"
   ]
  },
  {
   "cell_type": "code",
   "execution_count": 45,
   "id": "2b4b7bfb",
   "metadata": {},
   "outputs": [
    {
     "name": "stdout",
     "output_type": "stream",
     "text": [
      "Average Accuracy for training data is :  0.9948748388728298\n",
      "Max Accuracy for training data is :  1.0\n",
      "Average Accuracy for testing data is :  0.9757089020872359\n",
      "Max Accuracy for testing data is :  0.9938604625024586\n"
     ]
    }
   ],
   "source": [
    "rf_avg_train = mean(rf_training_scores)\n",
    "rf_avg_test = mean(rf_testing_scores)\n",
    "rf_max_train = max(rf_training_scores)\n",
    "rf_max_test = max(rf_testing_scores)\n",
    "print(\"Average Accuracy for training data is : \",rf_avg_train)\n",
    "print(\"Max Accuracy for training data is : \",rf_max_train)\n",
    "print(\"Average Accuracy for testing data is : \",rf_avg_test)\n",
    "print(\"Max Accuracy for testing data is : \",rf_max_test)"
   ]
  },
  {
   "cell_type": "markdown",
   "id": "f23ac63a",
   "metadata": {},
   "source": [
    "## Naive Bayes"
   ]
  },
  {
   "cell_type": "code",
   "execution_count": 46,
   "id": "4ff51ae6",
   "metadata": {},
   "outputs": [],
   "source": [
    "from sklearn.naive_bayes import MultinomialNB"
   ]
  },
  {
   "cell_type": "code",
   "execution_count": 47,
   "id": "a4a81acd",
   "metadata": {},
   "outputs": [
    {
     "name": "stdout",
     "output_type": "stream",
     "text": [
      "Train Index:  [ 71179  71180  71181 ... 355888 355889 355890] \n",
      "\n",
      "Test Index:  [    0     1     2 ... 71176 71177 71178]\n",
      "Train Index:  [     0      1      2 ... 355888 355889 355890] \n",
      "\n",
      "Test Index:  [ 71179  71180  71181 ... 142354 142355 142356]\n",
      "Train Index:  [     0      1      2 ... 355888 355889 355890] \n",
      "\n",
      "Test Index:  [142357 142358 142359 ... 213532 213533 213534]\n",
      "Train Index:  [     0      1      2 ... 355888 355889 355890] \n",
      "\n",
      "Test Index:  [213535 213536 213537 ... 284710 284711 284712]\n",
      "Train Index:  [     0      1      2 ... 284710 284711 284712] \n",
      "\n",
      "Test Index:  [284713 284714 284715 ... 355888 355889 355890]\n",
      "Time elapsed 1.4829442501068115\n"
     ]
    }
   ],
   "source": [
    "\n",
    "nb_training_scores = []\n",
    "nb_testing_scores = []\n",
    "best_nb = MultinomialNB()\n",
    "cv = KFold(n_splits=5, shuffle=False)\n",
    "s = time()\n",
    "for train_index, test_index in cv.split(x_sc):\n",
    "    print(\"Train Index: \", train_index, \"\\n\")\n",
    "    print(\"Test Index: \", test_index)\n",
    "\n",
    "    X_train, X_test, y_train, y_test = x_sc[train_index], x_sc[test_index], y[train_index], y[test_index]\n",
    "    best_nb.fit(X_train, y_train)\n",
    "    nb_training_scores.append(best_nb.score(X_train, y_train))\n",
    "    nb_testing_scores.append(best_nb.score(X_test, y_test))\n",
    "nb_time = time()-s\n",
    "print(\"Time elapsed\",nb_time)"
   ]
  },
  {
   "cell_type": "markdown",
   "id": "43da8875",
   "metadata": {},
   "source": [
    "### training accuracy scores for 5 fold "
   ]
  },
  {
   "cell_type": "code",
   "execution_count": 48,
   "id": "f942a9b0",
   "metadata": {},
   "outputs": [
    {
     "data": {
      "text/plain": [
       "[0.9824489308494198,\n",
       " 0.9733380632426338,\n",
       " 0.9726461383919948,\n",
       " 0.9778970401773014,\n",
       " 0.9816552106858486]"
      ]
     },
     "execution_count": 48,
     "metadata": {},
     "output_type": "execute_result"
    }
   ],
   "source": [
    "nb_training_scores"
   ]
  },
  {
   "cell_type": "markdown",
   "id": "30c0c355",
   "metadata": {},
   "source": [
    "### training accuracy scores of 5 fold"
   ]
  },
  {
   "cell_type": "code",
   "execution_count": 49,
   "id": "77bfd65f",
   "metadata": {},
   "outputs": [
    {
     "data": {
      "text/plain": [
       "[0.958189915564984,\n",
       " 0.9946331731714856,\n",
       " 0.9974008822950912,\n",
       " 0.9763972013824497,\n",
       " 0.9613644665486527]"
      ]
     },
     "execution_count": 49,
     "metadata": {},
     "output_type": "execute_result"
    }
   ],
   "source": [
    "nb_testing_scores"
   ]
  },
  {
   "cell_type": "code",
   "execution_count": 50,
   "id": "db3db3be",
   "metadata": {},
   "outputs": [
    {
     "name": "stdout",
     "output_type": "stream",
     "text": [
      "Average Accuracy for training data is :  0.9775970766694396\n",
      "Max Accuracy for training data is :  0.9824489308494198\n",
      "Average Accuracy for testing data is :  0.9775971277925326\n",
      "Max Accuracy for testing data is :  0.9974008822950912\n"
     ]
    }
   ],
   "source": [
    "nb_avg_train = mean(nb_training_scores)\n",
    "nb_avg_test = mean(nb_testing_scores)\n",
    "nb_max_train = max(nb_training_scores)\n",
    "nb_max_test = max(nb_testing_scores)\n",
    "print(\"Average Accuracy for training data is : \",nb_avg_train)\n",
    "print(\"Max Accuracy for training data is : \",nb_max_train)\n",
    "print(\"Average Accuracy for testing data is : \",nb_avg_test)\n",
    "print(\"Max Accuracy for testing data is : \",nb_max_test)"
   ]
  },
  {
   "cell_type": "markdown",
   "id": "d456cf99",
   "metadata": {},
   "source": [
    "## Support Vector Machine"
   ]
  },
  {
   "cell_type": "code",
   "execution_count": 51,
   "id": "b7f9c10e",
   "metadata": {},
   "outputs": [],
   "source": [
    "from sklearn.svm import LinearSVC"
   ]
  },
  {
   "cell_type": "code",
   "execution_count": 52,
   "id": "5653e5fe",
   "metadata": {},
   "outputs": [
    {
     "name": "stdout",
     "output_type": "stream",
     "text": [
      "Train Index:  [ 71179  71180  71181 ... 355888 355889 355890] \n",
      "\n",
      "Test Index:  [    0     1     2 ... 71176 71177 71178]\n",
      "Train Index:  [     0      1      2 ... 355888 355889 355890] \n",
      "\n",
      "Test Index:  [ 71179  71180  71181 ... 142354 142355 142356]\n",
      "Train Index:  [     0      1      2 ... 355888 355889 355890] \n",
      "\n",
      "Test Index:  [142357 142358 142359 ... 213532 213533 213534]\n",
      "Train Index:  [     0      1      2 ... 355888 355889 355890] \n",
      "\n",
      "Test Index:  [213535 213536 213537 ... 284710 284711 284712]\n",
      "Train Index:  [     0      1      2 ... 284710 284711 284712] \n",
      "\n",
      "Test Index:  [284713 284714 284715 ... 355888 355889 355890]\n",
      "Time elapsed 122.67512154579163\n"
     ]
    }
   ],
   "source": [
    "\n",
    "svc_training_scores = []\n",
    "svc_testing_scores = []\n",
    "best_svc = LinearSVC()\n",
    "cv = KFold(n_splits=5, shuffle=False)\n",
    "s = time()\n",
    "for train_index, test_index in cv.split(x_sc):\n",
    "    print(\"Train Index: \", train_index, \"\\n\")\n",
    "    print(\"Test Index: \", test_index)\n",
    "\n",
    "    X_train, X_test, y_train, y_test = x_sc[train_index], x_sc[test_index], y[train_index], y[test_index]\n",
    "    best_svc.fit(X_train, y_train)\n",
    "    svc_training_scores.append(best_svc.score(X_train, y_train))\n",
    "    svc_testing_scores.append(best_svc.score(X_test, y_test))\n",
    "svc_time = time()-s\n",
    "print(\"Time elapsed\",svc_time)"
   ]
  },
  {
   "cell_type": "markdown",
   "id": "66e67b57",
   "metadata": {},
   "source": [
    "### training accuracy scores for 5 fold "
   ]
  },
  {
   "cell_type": "code",
   "execution_count": 53,
   "id": "f2e8427e",
   "metadata": {},
   "outputs": [
    {
     "data": {
      "text/plain": [
       "[0.9901198404001237,\n",
       " 0.9807420103753605,\n",
       " 0.9802608240579109,\n",
       " 0.9854449919743742,\n",
       " 0.9829617895916238]"
      ]
     },
     "execution_count": 53,
     "metadata": {},
     "output_type": "execute_result"
    }
   ],
   "source": [
    "svc_training_scores"
   ]
  },
  {
   "cell_type": "markdown",
   "id": "a2512035",
   "metadata": {},
   "source": [
    "### training accuracy scores of 5 fold"
   ]
  },
  {
   "cell_type": "code",
   "execution_count": 54,
   "id": "1356cb94",
   "metadata": {},
   "outputs": [
    {
     "data": {
      "text/plain": [
       "[0.9578948847272369,\n",
       " 0.9941273989153953,\n",
       " 0.996656270195847,\n",
       " 0.9756806878529883,\n",
       " 0.9613504172637612]"
      ]
     },
     "execution_count": 54,
     "metadata": {},
     "output_type": "execute_result"
    }
   ],
   "source": [
    "svc_testing_scores"
   ]
  },
  {
   "cell_type": "code",
   "execution_count": 55,
   "id": "bb59fbbd",
   "metadata": {},
   "outputs": [
    {
     "name": "stdout",
     "output_type": "stream",
     "text": [
      "Average Accuracy for training data is :  0.9839058912798786\n",
      "Max Accuracy for training data is :  0.9901198404001237\n",
      "Average Accuracy for testing data is :  0.9771419317910458\n",
      "Max Accuracy for testing data is :  0.996656270195847\n"
     ]
    }
   ],
   "source": [
    "svc_avg_train = mean(svc_training_scores)\n",
    "svc_avg_test = mean(svc_testing_scores)\n",
    "svc_max_train = max(svc_training_scores)\n",
    "svc_max_test = max(svc_testing_scores)\n",
    "print(\"Average Accuracy for training data is : \",svc_avg_train)\n",
    "print(\"Max Accuracy for training data is : \",svc_max_train)\n",
    "print(\"Average Accuracy for testing data is : \",svc_avg_test)\n",
    "print(\"Max Accuracy for testing data is : \",svc_max_test)"
   ]
  },
  {
   "cell_type": "markdown",
   "id": "a557b88f",
   "metadata": {},
   "source": [
    "## Artificial Neural Network"
   ]
  },
  {
   "cell_type": "code",
   "execution_count": null,
   "id": "9adaac25",
   "metadata": {},
   "outputs": [],
   "source": []
  },
  {
   "cell_type": "code",
   "execution_count": null,
   "id": "307efd4d",
   "metadata": {},
   "outputs": [],
   "source": []
  },
  {
   "cell_type": "markdown",
   "id": "2d7ec862",
   "metadata": {},
   "source": [
    "### training accuracy scores for 5 fold "
   ]
  },
  {
   "cell_type": "code",
   "execution_count": null,
   "id": "9a46ca6d",
   "metadata": {},
   "outputs": [],
   "source": []
  },
  {
   "cell_type": "markdown",
   "id": "b0870ce8",
   "metadata": {},
   "source": [
    "### training accuracy scores of 5 fold"
   ]
  },
  {
   "cell_type": "code",
   "execution_count": null,
   "id": "bfd0ef27",
   "metadata": {},
   "outputs": [],
   "source": []
  },
  {
   "cell_type": "markdown",
   "id": "c723bb0c",
   "metadata": {},
   "source": [
    "### Creating dataset"
   ]
  },
  {
   "cell_type": "code",
   "execution_count": 56,
   "id": "91304d64",
   "metadata": {},
   "outputs": [],
   "source": [
    "dataset = [[lr_time,lr_avg_train,lr_max_train,lr_avg_test,lr_max_test],\n",
    "           [knn_time,knn_avg_train,knn_max_train,knn_avg_test,knn_max_test],\n",
    "           [dtc_time,dtc_avg_train,dtc_max_train,dtc_avg_test,dtc_max_test],\n",
    "           [rf_time,rf_avg_train,rf_max_train,rf_avg_test,rf_max_test],\n",
    "           [nb_time,nb_avg_train,nb_max_train,nb_avg_test,nb_max_test],\n",
    "           [svc_time,svc_avg_train,svc_max_train,svc_avg_test,svc_max_test],\n",
    "           \n",
    "          ]"
   ]
  },
  {
   "cell_type": "code",
   "execution_count": 58,
   "id": "08e3acd7",
   "metadata": {},
   "outputs": [
    {
     "data": {
      "text/html": [
       "<div>\n",
       "<style scoped>\n",
       "    .dataframe tbody tr th:only-of-type {\n",
       "        vertical-align: middle;\n",
       "    }\n",
       "\n",
       "    .dataframe tbody tr th {\n",
       "        vertical-align: top;\n",
       "    }\n",
       "\n",
       "    .dataframe thead th {\n",
       "        text-align: right;\n",
       "    }\n",
       "</style>\n",
       "<table border=\"1\" class=\"dataframe\">\n",
       "  <thead>\n",
       "    <tr style=\"text-align: right;\">\n",
       "      <th></th>\n",
       "      <th>Time_Taken</th>\n",
       "      <th>Average_Training_Accuracy</th>\n",
       "      <th>Max_Training_Accuracy</th>\n",
       "      <th>Average_Testing_Accuracy</th>\n",
       "      <th>Max_Testing_Accuracy</th>\n",
       "    </tr>\n",
       "  </thead>\n",
       "  <tbody>\n",
       "    <tr>\n",
       "      <th>Logistic Regression</th>\n",
       "      <td>171.046581</td>\n",
       "      <td>0.988407</td>\n",
       "      <td>0.995336</td>\n",
       "      <td>0.977993</td>\n",
       "      <td>0.996530</td>\n",
       "    </tr>\n",
       "    <tr>\n",
       "      <th>K Nearest Neighbour</th>\n",
       "      <td>414.875251</td>\n",
       "      <td>0.994358</td>\n",
       "      <td>0.999982</td>\n",
       "      <td>0.980702</td>\n",
       "      <td>0.998834</td>\n",
       "    </tr>\n",
       "    <tr>\n",
       "      <th>Decision Tree</th>\n",
       "      <td>5.678420</td>\n",
       "      <td>0.994875</td>\n",
       "      <td>1.000000</td>\n",
       "      <td>0.976333</td>\n",
       "      <td>0.993860</td>\n",
       "    </tr>\n",
       "    <tr>\n",
       "      <th>Random Forest</th>\n",
       "      <td>181.116352</td>\n",
       "      <td>0.994875</td>\n",
       "      <td>1.000000</td>\n",
       "      <td>0.975709</td>\n",
       "      <td>0.993860</td>\n",
       "    </tr>\n",
       "    <tr>\n",
       "      <th>Naive Bayes</th>\n",
       "      <td>1.482944</td>\n",
       "      <td>0.977597</td>\n",
       "      <td>0.982449</td>\n",
       "      <td>0.977597</td>\n",
       "      <td>0.997401</td>\n",
       "    </tr>\n",
       "    <tr>\n",
       "      <th>Support Vector Machine</th>\n",
       "      <td>122.675122</td>\n",
       "      <td>0.983906</td>\n",
       "      <td>0.990120</td>\n",
       "      <td>0.977142</td>\n",
       "      <td>0.996656</td>\n",
       "    </tr>\n",
       "  </tbody>\n",
       "</table>\n",
       "</div>"
      ],
      "text/plain": [
       "                        Time_Taken  Average_Training_Accuracy  \\\n",
       "Logistic Regression     171.046581                   0.988407   \n",
       "K Nearest Neighbour     414.875251                   0.994358   \n",
       "Decision Tree             5.678420                   0.994875   \n",
       "Random Forest           181.116352                   0.994875   \n",
       "Naive Bayes               1.482944                   0.977597   \n",
       "Support Vector Machine  122.675122                   0.983906   \n",
       "\n",
       "                        Max_Training_Accuracy  Average_Testing_Accuracy  \\\n",
       "Logistic Regression                  0.995336                  0.977993   \n",
       "K Nearest Neighbour                  0.999982                  0.980702   \n",
       "Decision Tree                        1.000000                  0.976333   \n",
       "Random Forest                        1.000000                  0.975709   \n",
       "Naive Bayes                          0.982449                  0.977597   \n",
       "Support Vector Machine               0.990120                  0.977142   \n",
       "\n",
       "                        Max_Testing_Accuracy  \n",
       "Logistic Regression                 0.996530  \n",
       "K Nearest Neighbour                 0.998834  \n",
       "Decision Tree                       0.993860  \n",
       "Random Forest                       0.993860  \n",
       "Naive Bayes                         0.997401  \n",
       "Support Vector Machine              0.996656  "
      ]
     },
     "execution_count": 58,
     "metadata": {},
     "output_type": "execute_result"
    }
   ],
   "source": [
    "comparison = pd.DataFrame(dataset, columns = ['Time_Taken','Average_Training_Accuracy','Max_Training_Accuracy','Average_Testing_Accuracy','Max_Testing_Accuracy'], \n",
    "                         index=['Logistic Regression','K Nearest Neighbour','Decision Tree','Random Forest','Naive Bayes','Support Vector Machine'])\n",
    "comparison"
   ]
  },
  {
   "cell_type": "code",
   "execution_count": 59,
   "id": "a37daeea",
   "metadata": {},
   "outputs": [],
   "source": [
    "comparison.to_csv('kfoldperformance.csv')"
   ]
  },
  {
   "cell_type": "code",
   "execution_count": null,
   "id": "1c79cbd8",
   "metadata": {},
   "outputs": [],
   "source": []
  }
 ],
 "metadata": {
  "kernelspec": {
   "display_name": "Python 3 (ipykernel)",
   "language": "python",
   "name": "python3"
  },
  "language_info": {
   "codemirror_mode": {
    "name": "ipython",
    "version": 3
   },
   "file_extension": ".py",
   "mimetype": "text/x-python",
   "name": "python",
   "nbconvert_exporter": "python",
   "pygments_lexer": "ipython3",
   "version": "3.9.6"
  }
 },
 "nbformat": 4,
 "nbformat_minor": 5
}
