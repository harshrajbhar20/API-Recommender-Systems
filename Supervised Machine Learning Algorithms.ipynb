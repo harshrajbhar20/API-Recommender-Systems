{
 "cells": [
  {
   "cell_type": "markdown",
   "id": "5c5a6b65",
   "metadata": {},
   "source": [
    "## Importing Libraries"
   ]
  },
  {
   "cell_type": "code",
   "execution_count": 1,
   "id": "848b452b",
   "metadata": {},
   "outputs": [],
   "source": [
    "from time import time\n",
    "import pandas as pd\n",
    "import numpy as np\n",
    "from sklearn.model_selection import train_test_split\n",
    "from sklearn.preprocessing import MinMaxScaler\n",
    "from sklearn.metrics import accuracy_score, classification_report,confusion_matrix"
   ]
  },
  {
   "cell_type": "markdown",
   "id": "a51ef518",
   "metadata": {},
   "source": [
    "### Loading dataset"
   ]
  },
  {
   "cell_type": "code",
   "execution_count": 2,
   "id": "684e6dcc",
   "metadata": {},
   "outputs": [
    {
     "data": {
      "text/html": [
       "<div>\n",
       "<style scoped>\n",
       "    .dataframe tbody tr th:only-of-type {\n",
       "        vertical-align: middle;\n",
       "    }\n",
       "\n",
       "    .dataframe tbody tr th {\n",
       "        vertical-align: top;\n",
       "    }\n",
       "\n",
       "    .dataframe thead th {\n",
       "        text-align: right;\n",
       "    }\n",
       "</style>\n",
       "<table border=\"1\" class=\"dataframe\">\n",
       "  <thead>\n",
       "    <tr style=\"text-align: right;\">\n",
       "      <th></th>\n",
       "      <th>0</th>\n",
       "      <th>1</th>\n",
       "      <th>2</th>\n",
       "      <th>3</th>\n",
       "      <th>4</th>\n",
       "      <th>5</th>\n",
       "      <th>6</th>\n",
       "      <th>7</th>\n",
       "      <th>8</th>\n",
       "      <th>9</th>\n",
       "      <th>10</th>\n",
       "      <th>11</th>\n",
       "    </tr>\n",
       "  </thead>\n",
       "  <tbody>\n",
       "    <tr>\n",
       "      <th>0</th>\n",
       "      <td>7</td>\n",
       "      <td>21</td>\n",
       "      <td>30</td>\n",
       "      <td>2</td>\n",
       "      <td>3</td>\n",
       "      <td>29</td>\n",
       "      <td>2</td>\n",
       "      <td>3</td>\n",
       "      <td>57</td>\n",
       "      <td>5</td>\n",
       "      <td>1</td>\n",
       "      <td>0</td>\n",
       "    </tr>\n",
       "    <tr>\n",
       "      <th>1</th>\n",
       "      <td>7</td>\n",
       "      <td>32</td>\n",
       "      <td>70</td>\n",
       "      <td>2</td>\n",
       "      <td>4</td>\n",
       "      <td>67</td>\n",
       "      <td>2</td>\n",
       "      <td>4</td>\n",
       "      <td>132</td>\n",
       "      <td>5</td>\n",
       "      <td>1</td>\n",
       "      <td>0</td>\n",
       "    </tr>\n",
       "    <tr>\n",
       "      <th>2</th>\n",
       "      <td>7</td>\n",
       "      <td>15</td>\n",
       "      <td>1</td>\n",
       "      <td>2</td>\n",
       "      <td>2</td>\n",
       "      <td>0</td>\n",
       "      <td>2</td>\n",
       "      <td>2</td>\n",
       "      <td>0</td>\n",
       "      <td>5</td>\n",
       "      <td>1</td>\n",
       "      <td>0</td>\n",
       "    </tr>\n",
       "    <tr>\n",
       "      <th>3</th>\n",
       "      <td>7</td>\n",
       "      <td>33</td>\n",
       "      <td>77</td>\n",
       "      <td>2</td>\n",
       "      <td>7</td>\n",
       "      <td>72</td>\n",
       "      <td>2</td>\n",
       "      <td>7</td>\n",
       "      <td>142</td>\n",
       "      <td>5</td>\n",
       "      <td>1</td>\n",
       "      <td>0</td>\n",
       "    </tr>\n",
       "    <tr>\n",
       "      <th>4</th>\n",
       "      <td>7</td>\n",
       "      <td>55</td>\n",
       "      <td>78</td>\n",
       "      <td>3</td>\n",
       "      <td>7</td>\n",
       "      <td>73</td>\n",
       "      <td>3</td>\n",
       "      <td>7</td>\n",
       "      <td>144</td>\n",
       "      <td>6</td>\n",
       "      <td>1</td>\n",
       "      <td>0</td>\n",
       "    </tr>\n",
       "    <tr>\n",
       "      <th>...</th>\n",
       "      <td>...</td>\n",
       "      <td>...</td>\n",
       "      <td>...</td>\n",
       "      <td>...</td>\n",
       "      <td>...</td>\n",
       "      <td>...</td>\n",
       "      <td>...</td>\n",
       "      <td>...</td>\n",
       "      <td>...</td>\n",
       "      <td>...</td>\n",
       "      <td>...</td>\n",
       "      <td>...</td>\n",
       "    </tr>\n",
       "    <tr>\n",
       "      <th>355886</th>\n",
       "      <td>7</td>\n",
       "      <td>25</td>\n",
       "      <td>46</td>\n",
       "      <td>2</td>\n",
       "      <td>15</td>\n",
       "      <td>45</td>\n",
       "      <td>4</td>\n",
       "      <td>15</td>\n",
       "      <td>90</td>\n",
       "      <td>7</td>\n",
       "      <td>0</td>\n",
       "      <td>8505</td>\n",
       "    </tr>\n",
       "    <tr>\n",
       "      <th>355887</th>\n",
       "      <td>7</td>\n",
       "      <td>82</td>\n",
       "      <td>14</td>\n",
       "      <td>7</td>\n",
       "      <td>10</td>\n",
       "      <td>8</td>\n",
       "      <td>0</td>\n",
       "      <td>10</td>\n",
       "      <td>16</td>\n",
       "      <td>0</td>\n",
       "      <td>0</td>\n",
       "      <td>22</td>\n",
       "    </tr>\n",
       "    <tr>\n",
       "      <th>355888</th>\n",
       "      <td>7</td>\n",
       "      <td>82</td>\n",
       "      <td>14</td>\n",
       "      <td>7</td>\n",
       "      <td>10</td>\n",
       "      <td>8</td>\n",
       "      <td>0</td>\n",
       "      <td>10</td>\n",
       "      <td>17</td>\n",
       "      <td>1</td>\n",
       "      <td>0</td>\n",
       "      <td>1</td>\n",
       "    </tr>\n",
       "    <tr>\n",
       "      <th>355889</th>\n",
       "      <td>7</td>\n",
       "      <td>30</td>\n",
       "      <td>62</td>\n",
       "      <td>2</td>\n",
       "      <td>20</td>\n",
       "      <td>60</td>\n",
       "      <td>3</td>\n",
       "      <td>20</td>\n",
       "      <td>120</td>\n",
       "      <td>3</td>\n",
       "      <td>0</td>\n",
       "      <td>0</td>\n",
       "    </tr>\n",
       "    <tr>\n",
       "      <th>355890</th>\n",
       "      <td>7</td>\n",
       "      <td>30</td>\n",
       "      <td>62</td>\n",
       "      <td>2</td>\n",
       "      <td>20</td>\n",
       "      <td>61</td>\n",
       "      <td>4</td>\n",
       "      <td>20</td>\n",
       "      <td>121</td>\n",
       "      <td>7</td>\n",
       "      <td>0</td>\n",
       "      <td>9156</td>\n",
       "    </tr>\n",
       "  </tbody>\n",
       "</table>\n",
       "<p>355891 rows × 12 columns</p>\n",
       "</div>"
      ],
      "text/plain": [
       "        0   1   2  3   4   5  6   7    8  9  10    11\n",
       "0       7  21  30  2   3  29  2   3   57  5   1     0\n",
       "1       7  32  70  2   4  67  2   4  132  5   1     0\n",
       "2       7  15   1  2   2   0  2   2    0  5   1     0\n",
       "3       7  33  77  2   7  72  2   7  142  5   1     0\n",
       "4       7  55  78  3   7  73  3   7  144  6   1     0\n",
       "...    ..  ..  .. ..  ..  .. ..  ..  ... ..  ..   ...\n",
       "355886  7  25  46  2  15  45  4  15   90  7   0  8505\n",
       "355887  7  82  14  7  10   8  0  10   16  0   0    22\n",
       "355888  7  82  14  7  10   8  0  10   17  1   0     1\n",
       "355889  7  30  62  2  20  60  3  20  120  3   0     0\n",
       "355890  7  30  62  2  20  61  4  20  121  7   0  9156\n",
       "\n",
       "[355891 rows x 12 columns]"
      ]
     },
     "execution_count": 2,
     "metadata": {},
     "output_type": "execute_result"
    }
   ],
   "source": [
    "data = pd.read_csv('dataset.csv')\n",
    "data"
   ]
  },
  {
   "cell_type": "markdown",
   "id": "99663e77",
   "metadata": {},
   "source": [
    "### Data Preprocessing\n"
   ]
  },
  {
   "cell_type": "code",
   "execution_count": null,
   "id": "29351e0c",
   "metadata": {},
   "outputs": [],
   "source": []
  },
  {
   "cell_type": "code",
   "execution_count": 3,
   "id": "1357be3b",
   "metadata": {},
   "outputs": [
    {
     "data": {
      "text/plain": [
       "(array([[  21,   30,    2, ...,    5,    1,    0],\n",
       "        [  32,   70,    2, ...,    5,    1,    0],\n",
       "        [  15,    1,    2, ...,    5,    1,    0],\n",
       "        ...,\n",
       "        [  82,   14,    7, ...,    1,    0,    1],\n",
       "        [  30,   62,    2, ...,    3,    0,    0],\n",
       "        [  30,   62,    2, ...,    7,    0, 9156]], dtype=int64),\n",
       " array([7, 7, 7, ..., 7, 7, 7], dtype=int64))"
      ]
     },
     "execution_count": 3,
     "metadata": {},
     "output_type": "execute_result"
    }
   ],
   "source": [
    "y = data.iloc[:,0].values\n",
    "x = data.iloc[:,1:].values\n",
    "x,y"
   ]
  },
  {
   "cell_type": "markdown",
   "id": "495a5f9c",
   "metadata": {},
   "source": [
    "### Splitting the dataset into training and testing "
   ]
  },
  {
   "cell_type": "code",
   "execution_count": 4,
   "id": "1ebcc87d",
   "metadata": {},
   "outputs": [],
   "source": [
    "x_train,x_test,y_train,y_test = train_test_split(x,y,test_size=0.25)"
   ]
  },
  {
   "cell_type": "markdown",
   "id": "d9fec5b5",
   "metadata": {},
   "source": [
    "### Scaling the dataset "
   ]
  },
  {
   "cell_type": "code",
   "execution_count": 5,
   "id": "cc139498",
   "metadata": {},
   "outputs": [],
   "source": [
    "sc = MinMaxScaler()\n",
    "x_train_sc = sc.fit_transform(x_train)\n",
    "x_test_sc = sc.transform(x_test)"
   ]
  },
  {
   "cell_type": "markdown",
   "id": "a22ee727",
   "metadata": {},
   "source": [
    "# Applying Machine Learning Algorithms"
   ]
  },
  {
   "cell_type": "markdown",
   "id": "df251303",
   "metadata": {},
   "source": [
    "### XGBoost"
   ]
  },
  {
   "cell_type": "code",
   "execution_count": 7,
   "id": "d5a86007",
   "metadata": {},
   "outputs": [],
   "source": [
    "from xgboost import XGBClassifier\n",
    "xgbc = XGBClassifier()"
   ]
  },
  {
   "cell_type": "code",
   "execution_count": 12,
   "id": "7c9c38a4",
   "metadata": {},
   "outputs": [
    {
     "name": "stderr",
     "output_type": "stream",
     "text": [
      "c:\\users\\hebbar\\appdata\\local\\programs\\python\\python39\\lib\\site-packages\\xgboost\\sklearn.py:1224: UserWarning: The use of label encoder in XGBClassifier is deprecated and will be removed in a future release. To remove this warning, do the following: 1) Pass option use_label_encoder=False when constructing XGBClassifier object; and 2) Encode your labels (y) as integers starting with 0, i.e. 0, 1, 2, ..., [num_class - 1].\n",
      "  warnings.warn(label_encoder_deprecation_msg, UserWarning)\n"
     ]
    },
    {
     "name": "stdout",
     "output_type": "stream",
     "text": [
      "[21:12:46] WARNING: C:/Users/Administrator/workspace/xgboost-win64_release_1.5.1/src/learner.cc:1115: Starting in XGBoost 1.3.0, the default evaluation metric used with the objective 'multi:softprob' was changed from 'merror' to 'mlogloss'. Explicitly set eval_metric if you'd like to restore the old behavior.\n"
     ]
    },
    {
     "data": {
      "text/plain": [
       "XGBClassifier(base_score=0.5, booster='gbtree', colsample_bylevel=1,\n",
       "              colsample_bynode=1, colsample_bytree=1, enable_categorical=False,\n",
       "              gamma=0, gpu_id=-1, importance_type=None,\n",
       "              interaction_constraints='', learning_rate=0.300000012,\n",
       "              max_delta_step=0, max_depth=6, min_child_weight=1, missing=nan,\n",
       "              monotone_constraints='()', n_estimators=100, n_jobs=4,\n",
       "              num_parallel_tree=1, objective='multi:softprob', predictor='auto',\n",
       "              random_state=0, reg_alpha=0, reg_lambda=1, scale_pos_weight=None,\n",
       "              subsample=1, tree_method='exact', validate_parameters=1,\n",
       "              verbosity=None)"
      ]
     },
     "execution_count": 12,
     "metadata": {},
     "output_type": "execute_result"
    }
   ],
   "source": [
    "xgbc.fit(x_train,y_train)"
   ]
  },
  {
   "cell_type": "code",
   "execution_count": 15,
   "id": "851f527e",
   "metadata": {},
   "outputs": [
    {
     "data": {
      "text/plain": [
       "0.9943166065982811"
      ]
     },
     "execution_count": 15,
     "metadata": {},
     "output_type": "execute_result"
    }
   ],
   "source": [
    "xgbc.score(x_train,y_train)"
   ]
  },
  {
   "cell_type": "code",
   "execution_count": 17,
   "id": "36e75701",
   "metadata": {},
   "outputs": [
    {
     "data": {
      "text/plain": [
       "0.9945713868252166"
      ]
     },
     "execution_count": 17,
     "metadata": {},
     "output_type": "execute_result"
    }
   ],
   "source": [
    "xgbc.score(x_test,y_test)"
   ]
  },
  {
   "cell_type": "markdown",
   "id": "63098496",
   "metadata": {},
   "source": [
    "## Applying logistic regression"
   ]
  },
  {
   "cell_type": "code",
   "execution_count": 6,
   "id": "ee2fd771",
   "metadata": {},
   "outputs": [],
   "source": [
    "from sklearn.linear_model import LogisticRegression\n",
    "lr = LogisticRegression(penalty = 'l2', multi_class = 'multinomial')"
   ]
  },
  {
   "cell_type": "code",
   "execution_count": 7,
   "id": "81d3e08f",
   "metadata": {},
   "outputs": [
    {
     "name": "stdout",
     "output_type": "stream",
     "text": [
      "Time elapsed 39.63400387763977\n"
     ]
    },
    {
     "name": "stderr",
     "output_type": "stream",
     "text": [
      "c:\\users\\hebbar\\appdata\\local\\programs\\python\\python39\\lib\\site-packages\\sklearn\\linear_model\\_logistic.py:814: ConvergenceWarning: lbfgs failed to converge (status=1):\n",
      "STOP: TOTAL NO. of ITERATIONS REACHED LIMIT.\n",
      "\n",
      "Increase the number of iterations (max_iter) or scale the data as shown in:\n",
      "    https://scikit-learn.org/stable/modules/preprocessing.html\n",
      "Please also refer to the documentation for alternative solver options:\n",
      "    https://scikit-learn.org/stable/modules/linear_model.html#logistic-regression\n",
      "  n_iter_i = _check_optimize_result(\n"
     ]
    }
   ],
   "source": [
    "s = time()\n",
    "lr.fit(x_train_sc,y_train)\n",
    "lr_time = time()-s\n",
    "print(\"Time elapsed\",lr_time)"
   ]
  },
  {
   "cell_type": "markdown",
   "id": "17202473",
   "metadata": {},
   "source": [
    "### Training accuracy"
   ]
  },
  {
   "cell_type": "code",
   "execution_count": 8,
   "id": "727881c5",
   "metadata": {},
   "outputs": [
    {
     "data": {
      "text/plain": [
       "0.9867000352168082"
      ]
     },
     "execution_count": 8,
     "metadata": {},
     "output_type": "execute_result"
    }
   ],
   "source": [
    "lr.score(x_train_sc,y_train)"
   ]
  },
  {
   "cell_type": "markdown",
   "id": "a9cf4326",
   "metadata": {},
   "source": [
    "### Testing accuracy"
   ]
  },
  {
   "cell_type": "code",
   "execution_count": 9,
   "id": "f21ec2cb",
   "metadata": {},
   "outputs": [
    {
     "data": {
      "text/plain": [
       "0.9878727254335585"
      ]
     },
     "execution_count": 9,
     "metadata": {},
     "output_type": "execute_result"
    }
   ],
   "source": [
    "lr.score(x_test_sc,y_test)"
   ]
  },
  {
   "cell_type": "markdown",
   "id": "e54b01b1",
   "metadata": {},
   "source": [
    "### Accuracy of the model"
   ]
  },
  {
   "cell_type": "code",
   "execution_count": 10,
   "id": "2a19ae66",
   "metadata": {},
   "outputs": [
    {
     "name": "stdout",
     "output_type": "stream",
     "text": [
      "Accuracy of Logistic Regression Training Dataset:  0.9867000352168082\n"
     ]
    }
   ],
   "source": [
    "y_lr_train_pred = lr.predict(x_train_sc)\n",
    "lr_train_accuracy = accuracy_score(y_train,y_lr_train_pred)\n",
    "print(\"Accuracy of Logistic Regression Training Dataset: \",lr_train_accuracy)"
   ]
  },
  {
   "cell_type": "code",
   "execution_count": 11,
   "id": "3130284d",
   "metadata": {},
   "outputs": [
    {
     "name": "stdout",
     "output_type": "stream",
     "text": [
      "Accuracy of Logistic Regression Testing Dataset:  0.9878727254335585\n"
     ]
    }
   ],
   "source": [
    "y_lr_test_pred = lr.predict(x_test_sc)\n",
    "lr_test_accuracy = accuracy_score(y_test,y_lr_test_pred)\n",
    "print(\"Accuracy of Logistic Regression Testing Dataset: \",lr_test_accuracy)"
   ]
  },
  {
   "cell_type": "code",
   "execution_count": null,
   "id": "f86e2f3d",
   "metadata": {},
   "outputs": [],
   "source": []
  },
  {
   "cell_type": "markdown",
   "id": "937a25dd",
   "metadata": {},
   "source": [
    "## Applying KNN"
   ]
  },
  {
   "cell_type": "code",
   "execution_count": 127,
   "id": "864ee791",
   "metadata": {},
   "outputs": [],
   "source": [
    "from sklearn.neighbors import KNeighborsClassifier\n",
    "knn = KNeighborsClassifier(n_neighbors=9)"
   ]
  },
  {
   "cell_type": "code",
   "execution_count": 128,
   "id": "2ff23f9a",
   "metadata": {},
   "outputs": [
    {
     "name": "stderr",
     "output_type": "stream",
     "text": [
      "c:\\users\\hebbar\\appdata\\local\\programs\\python\\python39\\lib\\site-packages\\sklearn\\neighbors\\_classification.py:198: DataConversionWarning: A column-vector y was passed when a 1d array was expected. Please change the shape of y to (n_samples,), for example using ravel().\n",
      "  return self._fit(X, y)\n"
     ]
    },
    {
     "name": "stdout",
     "output_type": "stream",
     "text": [
      "Time elapsed 1.409510612487793\n"
     ]
    }
   ],
   "source": [
    "s = time()\n",
    "knn.fit(x_train_sc,y_train)\n",
    "knn_time = time()-s\n",
    "print(\"Time elapsed\",knn_time)"
   ]
  },
  {
   "cell_type": "markdown",
   "id": "d2c8f8ff",
   "metadata": {},
   "source": [
    "### Training accuracy"
   ]
  },
  {
   "cell_type": "code",
   "execution_count": 129,
   "id": "9e000dea",
   "metadata": {},
   "outputs": [
    {
     "data": {
      "text/plain": [
       "0.9936235098419739"
      ]
     },
     "execution_count": 129,
     "metadata": {},
     "output_type": "execute_result"
    }
   ],
   "source": [
    "knn.score(x_train_sc,y_train)"
   ]
  },
  {
   "cell_type": "markdown",
   "id": "e1fe1991",
   "metadata": {},
   "source": [
    "### Testing accuracy"
   ]
  },
  {
   "cell_type": "code",
   "execution_count": 130,
   "id": "81291667",
   "metadata": {},
   "outputs": [
    {
     "data": {
      "text/plain": [
       "0.9932676205140886"
      ]
     },
     "execution_count": 130,
     "metadata": {},
     "output_type": "execute_result"
    }
   ],
   "source": [
    "knn.score(x_test_sc,y_test)"
   ]
  },
  {
   "cell_type": "markdown",
   "id": "1bf490d9",
   "metadata": {},
   "source": [
    "### Accuracy of the model"
   ]
  },
  {
   "cell_type": "code",
   "execution_count": 16,
   "id": "bd3d1a7c",
   "metadata": {},
   "outputs": [
    {
     "name": "stdout",
     "output_type": "stream",
     "text": [
      "Accuracy of K Nearest Neigbour Training Dataset:  0.993645988655692\n"
     ]
    }
   ],
   "source": [
    "y_knn_train_pred = knn.predict(x_train_sc)\n",
    "knn_train_accuracy = accuracy_score(y_train,y_knn_train_pred)\n",
    "print(\"Accuracy of K Nearest Neigbour Training Dataset: \",knn_train_accuracy)"
   ]
  },
  {
   "cell_type": "code",
   "execution_count": 17,
   "id": "b3a8d805",
   "metadata": {},
   "outputs": [
    {
     "name": "stdout",
     "output_type": "stream",
     "text": [
      "Accuracy of K Nearest Neigbour Testing Dataset:  0.9933462960673463\n"
     ]
    }
   ],
   "source": [
    "y_knn_test_pred = knn.predict(x_test_sc)\n",
    "knn_test_accuracy = accuracy_score(y_test,y_knn_test_pred)\n",
    "print(\"Accuracy of K Nearest Neigbour Testing Dataset: \",knn_test_accuracy)"
   ]
  },
  {
   "cell_type": "code",
   "execution_count": null,
   "id": "1bc628ef",
   "metadata": {},
   "outputs": [],
   "source": []
  },
  {
   "cell_type": "markdown",
   "id": "d0a6655c",
   "metadata": {},
   "source": [
    "## Applying Decision Tree Classifier"
   ]
  },
  {
   "cell_type": "code",
   "execution_count": 18,
   "id": "279e51ce",
   "metadata": {},
   "outputs": [],
   "source": [
    "from sklearn.tree import DecisionTreeClassifier\n",
    "\n",
    "dtc = DecisionTreeClassifier()"
   ]
  },
  {
   "cell_type": "code",
   "execution_count": 19,
   "id": "a2e41f30",
   "metadata": {},
   "outputs": [
    {
     "name": "stdout",
     "output_type": "stream",
     "text": [
      "Time elapsed 1.8945696353912354\n"
     ]
    }
   ],
   "source": [
    "s = time()\n",
    "dtc.fit(x_train_sc,y_train)\n",
    "dtc_time = time()-s\n",
    "print(\"Time elapsed\",dtc_time)"
   ]
  },
  {
   "cell_type": "markdown",
   "id": "b16b0c99",
   "metadata": {},
   "source": [
    "### Training accuracy"
   ]
  },
  {
   "cell_type": "code",
   "execution_count": 20,
   "id": "76be256e",
   "metadata": {},
   "outputs": [
    {
     "data": {
      "text/plain": [
       "0.9943465783499053"
      ]
     },
     "execution_count": 20,
     "metadata": {},
     "output_type": "execute_result"
    }
   ],
   "source": [
    "dtc.score(x_train_sc,y_train)"
   ]
  },
  {
   "cell_type": "markdown",
   "id": "3b310910",
   "metadata": {},
   "source": [
    "### Testing accuracy"
   ]
  },
  {
   "cell_type": "code",
   "execution_count": 21,
   "id": "a1a38502",
   "metadata": {},
   "outputs": [
    {
     "data": {
      "text/plain": [
       "0.9944477538129545"
      ]
     },
     "execution_count": 21,
     "metadata": {},
     "output_type": "execute_result"
    }
   ],
   "source": [
    "dtc.score(x_test_sc,y_test)"
   ]
  },
  {
   "cell_type": "markdown",
   "id": "26419bcd",
   "metadata": {},
   "source": [
    "### Accuracy of the model"
   ]
  },
  {
   "cell_type": "code",
   "execution_count": 22,
   "id": "4413305b",
   "metadata": {},
   "outputs": [
    {
     "name": "stdout",
     "output_type": "stream",
     "text": [
      "Accuracy of Decision Tree Classifier Training Dataset:  0.9943465783499053\n"
     ]
    }
   ],
   "source": [
    "y_dtc_train_pred = dtc.predict(x_train_sc)\n",
    "dtc_train_accuracy = accuracy_score(y_train,y_dtc_train_pred)\n",
    "print(\"Accuracy of Decision Tree Classifier Training Dataset: \",dtc_train_accuracy)"
   ]
  },
  {
   "cell_type": "code",
   "execution_count": 23,
   "id": "9f0a3965",
   "metadata": {},
   "outputs": [
    {
     "name": "stdout",
     "output_type": "stream",
     "text": [
      "Accuracy of Decision Tree Classifier Testing Dataset:  0.9944477538129545\n"
     ]
    }
   ],
   "source": [
    "y_dtc_test_pred = dtc.predict(x_test_sc)\n",
    "dtc_test_accuracy = accuracy_score(y_test,y_dtc_test_pred)\n",
    "print(\"Accuracy of Decision Tree Classifier Testing Dataset: \",dtc_test_accuracy)"
   ]
  },
  {
   "cell_type": "markdown",
   "id": "361e762d",
   "metadata": {},
   "source": [
    "## Applying Random Forest Classifier"
   ]
  },
  {
   "cell_type": "code",
   "execution_count": 24,
   "id": "e9c9978c",
   "metadata": {},
   "outputs": [],
   "source": [
    "from sklearn.ensemble import RandomForestClassifier\n",
    "rfc = RandomForestClassifier()"
   ]
  },
  {
   "cell_type": "code",
   "execution_count": 25,
   "id": "3aa77c46",
   "metadata": {},
   "outputs": [
    {
     "name": "stdout",
     "output_type": "stream",
     "text": [
      "Time elapsed 86.07441997528076\n"
     ]
    }
   ],
   "source": [
    "s = time()\n",
    "rfc.fit(x_train_sc,y_train)\n",
    "rfc_time = time()-s\n",
    "print(\"Time elapsed\",rfc_time)"
   ]
  },
  {
   "cell_type": "markdown",
   "id": "380a6ce8",
   "metadata": {},
   "source": [
    "### Training accuracy"
   ]
  },
  {
   "cell_type": "code",
   "execution_count": 26,
   "id": "84472317",
   "metadata": {},
   "outputs": [
    {
     "data": {
      "text/plain": [
       "0.9943465783499053"
      ]
     },
     "execution_count": 26,
     "metadata": {},
     "output_type": "execute_result"
    }
   ],
   "source": [
    "rfc.score(x_train_sc,y_train)"
   ]
  },
  {
   "cell_type": "markdown",
   "id": "857ae1b7",
   "metadata": {},
   "source": [
    "### Testing accuracy"
   ]
  },
  {
   "cell_type": "code",
   "execution_count": 27,
   "id": "101765fe",
   "metadata": {},
   "outputs": [
    {
     "data": {
      "text/plain": [
       "0.9944814719072078"
      ]
     },
     "execution_count": 27,
     "metadata": {},
     "output_type": "execute_result"
    }
   ],
   "source": [
    "rfc.score(x_test_sc,y_test)"
   ]
  },
  {
   "cell_type": "markdown",
   "id": "f599b81f",
   "metadata": {},
   "source": [
    "### Accuracy of the model"
   ]
  },
  {
   "cell_type": "code",
   "execution_count": 28,
   "id": "3dabb9e2",
   "metadata": {},
   "outputs": [
    {
     "name": "stdout",
     "output_type": "stream",
     "text": [
      "Accuracy of Random Forest Classifier Training Dataset:  0.9943465783499053\n"
     ]
    }
   ],
   "source": [
    "y_rfc_train_pred = rfc.predict(x_train_sc)\n",
    "rfc_train_accuracy = accuracy_score(y_train,y_rfc_train_pred)\n",
    "print(\"Accuracy of Random Forest Classifier Training Dataset: \",rfc_train_accuracy)"
   ]
  },
  {
   "cell_type": "code",
   "execution_count": 29,
   "id": "147a3aa4",
   "metadata": {},
   "outputs": [
    {
     "name": "stdout",
     "output_type": "stream",
     "text": [
      "Accuracy of Random Forest Classifier Testing Dataset:  0.9944814719072078\n"
     ]
    }
   ],
   "source": [
    "y_rfc_test_pred = rfc.predict(x_test_sc)\n",
    "rfc_test_accuracy = accuracy_score(y_test,y_rfc_test_pred)\n",
    "print(\"Accuracy of Random Forest Classifier Testing Dataset: \",rfc_test_accuracy)"
   ]
  },
  {
   "cell_type": "markdown",
   "id": "28d754ef",
   "metadata": {},
   "source": [
    "## Applying Naive bayes "
   ]
  },
  {
   "cell_type": "code",
   "execution_count": 106,
   "id": "9579ce7a",
   "metadata": {},
   "outputs": [],
   "source": [
    "from sklearn.naive_bayes import MultinomialNB\n",
    "nb = MultinomialNB()"
   ]
  },
  {
   "cell_type": "code",
   "execution_count": 109,
   "id": "3508ae4e",
   "metadata": {},
   "outputs": [
    {
     "name": "stdout",
     "output_type": "stream",
     "text": [
      "Time elapsed 0.0859382152557373\n"
     ]
    },
    {
     "name": "stderr",
     "output_type": "stream",
     "text": [
      "c:\\users\\hebbar\\appdata\\local\\programs\\python\\python39\\lib\\site-packages\\sklearn\\utils\\validation.py:985: DataConversionWarning: A column-vector y was passed when a 1d array was expected. Please change the shape of y to (n_samples, ), for example using ravel().\n",
      "  y = column_or_1d(y, warn=True)\n"
     ]
    }
   ],
   "source": [
    "s = time()\n",
    "nb.fit(x_train_sc,y_train)\n",
    "nb_time = time()-s\n",
    "print(\"Time elapsed\",nb_time)"
   ]
  },
  {
   "cell_type": "markdown",
   "id": "3a1346da",
   "metadata": {},
   "source": [
    "### Training accuracy"
   ]
  },
  {
   "cell_type": "code",
   "execution_count": 110,
   "id": "8caaace3",
   "metadata": {},
   "outputs": [
    {
     "data": {
      "text/plain": [
       "0.9772889052068425"
      ]
     },
     "execution_count": 110,
     "metadata": {},
     "output_type": "execute_result"
    }
   ],
   "source": [
    "nb.score(x_train_sc,y_train)"
   ]
  },
  {
   "cell_type": "markdown",
   "id": "6f5fc46f",
   "metadata": {},
   "source": [
    "### Testing accuracy"
   ]
  },
  {
   "cell_type": "code",
   "execution_count": 111,
   "id": "09d71439",
   "metadata": {},
   "outputs": [
    {
     "data": {
      "text/plain": [
       "0.9785215739606398"
      ]
     },
     "execution_count": 111,
     "metadata": {},
     "output_type": "execute_result"
    }
   ],
   "source": [
    "nb.score(x_test_sc,y_test)"
   ]
  },
  {
   "cell_type": "markdown",
   "id": "af9a9673",
   "metadata": {},
   "source": [
    "### Accuracy of the model"
   ]
  },
  {
   "cell_type": "code",
   "execution_count": 121,
   "id": "857845ae",
   "metadata": {},
   "outputs": [
    {
     "name": "stdout",
     "output_type": "stream",
     "text": [
      "Accuracy of Naive Bayes Training Dataset:  0.9772889052068425\n"
     ]
    }
   ],
   "source": [
    "y_nb_train_pred = nb.predict(x_train_sc)\n",
    "nb_train_accuracy = accuracy_score(y_train,y_nb_train_pred)\n",
    "print(\"Accuracy of Naive Bayes Training Dataset: \",nb_train_accuracy)"
   ]
  },
  {
   "cell_type": "code",
   "execution_count": 122,
   "id": "9e6b21ff",
   "metadata": {},
   "outputs": [
    {
     "name": "stdout",
     "output_type": "stream",
     "text": [
      "Accuracy of Naive Bayes Testing Dataset:  0.9785215739606398\n"
     ]
    }
   ],
   "source": [
    "y_nb_test_pred = nb.predict(x_test_sc)\n",
    "nb_test_accuracy = accuracy_score(y_test,y_nb_test_pred)\n",
    "print(\"Accuracy of Naive Bayes Testing Dataset: \",nb_test_accuracy)"
   ]
  },
  {
   "cell_type": "markdown",
   "id": "6ffcbccd",
   "metadata": {},
   "source": [
    "## Applying SVM"
   ]
  },
  {
   "cell_type": "code",
   "execution_count": 36,
   "id": "01fa4b9a",
   "metadata": {},
   "outputs": [],
   "source": [
    "from sklearn.svm import LinearSVC\n",
    "svc = LinearSVC()"
   ]
  },
  {
   "cell_type": "code",
   "execution_count": 37,
   "id": "b4b3cd14",
   "metadata": {},
   "outputs": [
    {
     "name": "stdout",
     "output_type": "stream",
     "text": [
      "Time elapsed 78.33316397666931\n"
     ]
    }
   ],
   "source": [
    "s = time()\n",
    "svc.fit(x_train_sc,y_train)\n",
    "svc_time = time()-s\n",
    "print(\"Time elapsed\",svc_time)"
   ]
  },
  {
   "cell_type": "markdown",
   "id": "e905b3d8",
   "metadata": {},
   "source": [
    "### Training accuracy"
   ]
  },
  {
   "cell_type": "code",
   "execution_count": 38,
   "id": "b34b3e27",
   "metadata": {},
   "outputs": [
    {
     "data": {
      "text/plain": [
       "0.9831783544009771"
      ]
     },
     "execution_count": 38,
     "metadata": {},
     "output_type": "execute_result"
    }
   ],
   "source": [
    "svc.score(x_train_sc,y_train)"
   ]
  },
  {
   "cell_type": "markdown",
   "id": "98437b62",
   "metadata": {},
   "source": [
    "### Testing accuracy"
   ]
  },
  {
   "cell_type": "code",
   "execution_count": 39,
   "id": "3a4db483",
   "metadata": {},
   "outputs": [
    {
     "data": {
      "text/plain": [
       "0.9846245490204893"
      ]
     },
     "execution_count": 39,
     "metadata": {},
     "output_type": "execute_result"
    }
   ],
   "source": [
    "svc.score(x_test_sc,y_test)"
   ]
  },
  {
   "cell_type": "markdown",
   "id": "96707501",
   "metadata": {},
   "source": [
    "### Accuracy of the model"
   ]
  },
  {
   "cell_type": "code",
   "execution_count": 40,
   "id": "e305e53a",
   "metadata": {},
   "outputs": [
    {
     "name": "stdout",
     "output_type": "stream",
     "text": [
      "Accuracy of Support Vector Machine Training Dataset:  0.9831783544009771\n"
     ]
    }
   ],
   "source": [
    "y_svc_train_pred = svc.predict(x_train_sc)\n",
    "svc_train_accuracy = accuracy_score(y_train,y_svc_train_pred)\n",
    "print(\"Accuracy of Support Vector Machine Training Dataset: \",svc_train_accuracy)"
   ]
  },
  {
   "cell_type": "code",
   "execution_count": 41,
   "id": "0d395c10",
   "metadata": {},
   "outputs": [
    {
     "name": "stdout",
     "output_type": "stream",
     "text": [
      "Accuracy of Support Vector Machine Testing Dataset:  0.9846245490204893\n"
     ]
    }
   ],
   "source": [
    "y_svc_test_pred = svc.predict(x_test_sc)\n",
    "svc_test_accuracy = accuracy_score(y_test,y_svc_test_pred)\n",
    "print(\"Accuracy of Support Vector Machine Testing Dataset: \",svc_test_accuracy)"
   ]
  },
  {
   "cell_type": "markdown",
   "id": "7e98bccb",
   "metadata": {},
   "source": [
    "## Applying Artificial Neural Network using Tensorflow"
   ]
  },
  {
   "cell_type": "code",
   "execution_count": 42,
   "id": "dafe12c3",
   "metadata": {},
   "outputs": [],
   "source": [
    "import tensorflow as tf\n",
    "from tensorflow.keras import Sequential,layers"
   ]
  },
  {
   "cell_type": "code",
   "execution_count": 43,
   "id": "b0697d0f",
   "metadata": {},
   "outputs": [
    {
     "data": {
      "text/plain": [
       "((266918,), (88973,))"
      ]
     },
     "execution_count": 43,
     "metadata": {},
     "output_type": "execute_result"
    }
   ],
   "source": [
    "y_train.shape,y_test.shape"
   ]
  },
  {
   "cell_type": "code",
   "execution_count": 44,
   "id": "078d3805",
   "metadata": {},
   "outputs": [],
   "source": [
    "y_train = y_train.reshape(-1,1)"
   ]
  },
  {
   "cell_type": "code",
   "execution_count": 45,
   "id": "15df740d",
   "metadata": {},
   "outputs": [],
   "source": [
    "y_test = y_test.reshape(-1,1)"
   ]
  },
  {
   "cell_type": "code",
   "execution_count": 46,
   "id": "2339d388",
   "metadata": {},
   "outputs": [
    {
     "data": {
      "text/plain": [
       "((266918, 1), (88973, 1))"
      ]
     },
     "execution_count": 46,
     "metadata": {},
     "output_type": "execute_result"
    }
   ],
   "source": [
    "y_train.shape,y_test.shape"
   ]
  },
  {
   "cell_type": "code",
   "execution_count": 47,
   "id": "a5034357",
   "metadata": {},
   "outputs": [
    {
     "data": {
      "text/plain": [
       "((266918, 11), (266918, 11), (88973, 11), (88973, 11))"
      ]
     },
     "execution_count": 47,
     "metadata": {},
     "output_type": "execute_result"
    }
   ],
   "source": [
    "x_train.shape,x_train_sc.shape,x_test.shape,x_test_sc.shape"
   ]
  },
  {
   "cell_type": "code",
   "execution_count": 48,
   "id": "3f0a2715",
   "metadata": {},
   "outputs": [
    {
     "name": "stdout",
     "output_type": "stream",
     "text": [
      "Epoch 1/20\n",
      "8342/8342 [==============================] - ETA: 0s - loss: 0.0799 - accuracy: 0.98 - 11s 1ms/step - loss: 0.0799 - accuracy: 0.9831\n",
      "Epoch 2/20\n",
      "8342/8342 [==============================] - 13s 2ms/step - loss: 0.0265 - accuracy: 0.9908\n",
      "Epoch 3/20\n",
      "8342/8342 [==============================] - 15s 2ms/step - loss: 0.0184 - accuracy: 0.9924\n",
      "Epoch 4/20\n",
      "8342/8342 [==============================] - 15s 2ms/step - loss: 0.0154 - accuracy: 0.9931\n",
      "Epoch 5/20\n",
      "8342/8342 [==============================] - 15s 2ms/step - loss: 0.0139 - accuracy: 0.9934\n",
      "Epoch 6/20\n",
      "8342/8342 [==============================] - 15s 2ms/step - loss: 0.0132 - accuracy: 0.9936\n",
      "Epoch 7/20\n",
      "8342/8342 [==============================] - 15s 2ms/step - loss: 0.0126 - accuracy: 0.9937\n",
      "Epoch 8/20\n",
      "8342/8342 [==============================] - 16s 2ms/step - loss: 0.0122 - accuracy: 0.9939\n",
      "Epoch 9/20\n",
      "8342/8342 [==============================] - 15s 2ms/step - loss: 0.0120 - accuracy: 0.9939\n",
      "Epoch 10/20\n",
      "8342/8342 [==============================] - 13s 2ms/step - loss: 0.0119 - accuracy: 0.9940\n",
      "Epoch 11/20\n",
      "8342/8342 [==============================] - 14s 2ms/step - loss: 0.0118 - accuracy: 0.9941\n",
      "Epoch 12/20\n",
      "8342/8342 [==============================] - 13s 2ms/step - loss: 0.0119 - accuracy: 0.9941\n",
      "Epoch 13/20\n",
      "8342/8342 [==============================] - 14s 2ms/step - loss: 0.0117 - accuracy: 0.9942\n",
      "Epoch 14/20\n",
      "8342/8342 [==============================] - 13s 2ms/step - loss: 0.0119 - accuracy: 0.9942 0s\n",
      "Epoch 15/20\n",
      "8342/8342 [==============================] - 14s 2ms/step - loss: 0.0115 - accuracy: 0.9942\n",
      "Epoch 16/20\n",
      "8342/8342 [==============================] - 13s 2ms/step - loss: 0.0115 - accuracy: 0.9942\n",
      "Epoch 17/20\n",
      "8342/8342 [==============================] - 13s 2ms/step - loss: 0.0115 - accuracy: 0.9942\n",
      "Epoch 18/20\n",
      "8342/8342 [==============================] - 14s 2ms/step - loss: 0.0115 - accuracy: 0.9942\n",
      "Epoch 19/20\n",
      "8342/8342 [==============================] - 14s 2ms/step - loss: 0.0116 - accuracy: 0.9942\n",
      "Epoch 20/20\n",
      "8342/8342 [==============================] - 14s 2ms/step - loss: 0.0114 - accuracy: 0.9943\n",
      "Time elapsed 279.6557123661041\n"
     ]
    }
   ],
   "source": [
    "ann = Sequential([\n",
    "    layers.Dense(10,input_shape=(11,),activation='relu'),\n",
    "    layers.Dense(20,activation='relu'),\n",
    "    layers.Dense(20,activation='relu'),\n",
    "    layers.Dense(8,activation='sigmoid'),\n",
    "    \n",
    "])\n",
    "\n",
    "ann.compile(optimizer='adam',\n",
    "             loss = 'sparse_categorical_crossentropy',\n",
    "             metrics=['accuracy'])\n",
    "s = time()\n",
    "ann.fit(x_train_sc,y_train,epochs= 20)\n",
    "ann_time = time()-s\n",
    "print(\"Time elapsed\",ann_time)"
   ]
  },
  {
   "cell_type": "markdown",
   "id": "a45bc614",
   "metadata": {},
   "source": [
    "## Training Accuracy"
   ]
  },
  {
   "cell_type": "code",
   "execution_count": 49,
   "id": "b9e2f8e1",
   "metadata": {},
   "outputs": [
    {
     "name": "stdout",
     "output_type": "stream",
     "text": [
      "8342/8342 [==============================] - 8s 967us/step - loss: 0.0115 - accuracy: 0.9942\n"
     ]
    },
    {
     "data": {
      "text/plain": [
       "0.9942379593849182"
      ]
     },
     "execution_count": 49,
     "metadata": {},
     "output_type": "execute_result"
    }
   ],
   "source": [
    "loss_train, ann_train_accuracy = ann.evaluate(x_train_sc,y_train)\n",
    "ann_train_accuracy"
   ]
  },
  {
   "cell_type": "code",
   "execution_count": 50,
   "id": "faeb0fc7",
   "metadata": {},
   "outputs": [
    {
     "name": "stdout",
     "output_type": "stream",
     "text": [
      "2781/2781 [==============================] - 3s 941us/step - loss: 0.0114 - accuracy: 0.9944\n"
     ]
    },
    {
     "data": {
      "text/plain": [
       "0.9943915605545044"
      ]
     },
     "execution_count": 50,
     "metadata": {},
     "output_type": "execute_result"
    }
   ],
   "source": [
    "loss_test, ann_test_accuracy = ann.evaluate(x_test_sc,y_test)\n",
    "ann_test_accuracy"
   ]
  },
  {
   "cell_type": "markdown",
   "id": "c0e349bb",
   "metadata": {},
   "source": [
    "## Evaluation Metrics"
   ]
  },
  {
   "cell_type": "code",
   "execution_count": 51,
   "id": "f362dd8a",
   "metadata": {},
   "outputs": [],
   "source": [
    "target_names = ['DoSattack','dataProbing','malitiousControl', 'malitiousOperation','scan','spying', 'wrongSetUp','Normal']"
   ]
  },
  {
   "cell_type": "code",
   "execution_count": 52,
   "id": "60f17c45",
   "metadata": {},
   "outputs": [
    {
     "data": {
      "text/plain": [
       "['DoSattack',\n",
       " 'dataProbing',\n",
       " 'malitiousControl',\n",
       " 'malitiousOperation',\n",
       " 'scan',\n",
       " 'spying',\n",
       " 'wrongSetUp',\n",
       " 'Normal']"
      ]
     },
     "execution_count": 52,
     "metadata": {},
     "output_type": "execute_result"
    }
   ],
   "source": [
    "target_names"
   ]
  },
  {
   "cell_type": "markdown",
   "id": "6aa1fe69",
   "metadata": {},
   "source": [
    "## Classification Report of Logistic Regression"
   ]
  },
  {
   "cell_type": "markdown",
   "id": "b1e43eff",
   "metadata": {},
   "source": [
    "### For Training Dataset"
   ]
  },
  {
   "cell_type": "code",
   "execution_count": 53,
   "id": "2c0e9abf",
   "metadata": {},
   "outputs": [
    {
     "name": "stdout",
     "output_type": "stream",
     "text": [
      "                    precision    recall  f1-score   support\n",
      "\n",
      "         DoSattack       0.93      0.50      0.65      2995\n",
      "       dataProbing       1.00      0.82      0.90       186\n",
      "  malitiousControl       0.94      0.48      0.64       696\n",
      "malitiousOperation       0.73      0.57      0.64       522\n",
      "              scan       0.99      0.40      0.57      1167\n",
      "            spying       0.00      0.00      0.00       403\n",
      "        wrongSetUp       0.00      0.00      0.00        93\n",
      "            Normal       0.99      1.00      0.99    260856\n",
      "\n",
      "          accuracy                           0.99    266918\n",
      "         macro avg       0.70      0.47      0.55    266918\n",
      "      weighted avg       0.98      0.99      0.98    266918\n",
      "\n"
     ]
    }
   ],
   "source": [
    "print(classification_report(y_train, y_lr_train_pred, target_names=target_names))"
   ]
  },
  {
   "cell_type": "markdown",
   "id": "31490f62",
   "metadata": {},
   "source": [
    "### For Testing Dataset"
   ]
  },
  {
   "cell_type": "code",
   "execution_count": 54,
   "id": "97b93e0e",
   "metadata": {},
   "outputs": [
    {
     "name": "stdout",
     "output_type": "stream",
     "text": [
      "                    precision    recall  f1-score   support\n",
      "\n",
      "         DoSattack       0.94      0.51      0.66      1005\n",
      "       dataProbing       1.00      0.86      0.92        56\n",
      "  malitiousControl       0.97      0.49      0.65       193\n",
      "malitiousOperation       0.74      0.65      0.69       135\n",
      "              scan       0.99      0.42      0.59       364\n",
      "            spying       0.00      0.00      0.00       129\n",
      "        wrongSetUp       0.00      0.00      0.00        29\n",
      "            Normal       0.99      1.00      0.99     87062\n",
      "\n",
      "          accuracy                           0.99     88973\n",
      "         macro avg       0.70      0.49      0.56     88973\n",
      "      weighted avg       0.99      0.99      0.99     88973\n",
      "\n"
     ]
    },
    {
     "name": "stderr",
     "output_type": "stream",
     "text": [
      "c:\\users\\hebbar\\appdata\\local\\programs\\python\\python39\\lib\\site-packages\\sklearn\\metrics\\_classification.py:1308: UndefinedMetricWarning: Precision and F-score are ill-defined and being set to 0.0 in labels with no predicted samples. Use `zero_division` parameter to control this behavior.\n",
      "  _warn_prf(average, modifier, msg_start, len(result))\n",
      "c:\\users\\hebbar\\appdata\\local\\programs\\python\\python39\\lib\\site-packages\\sklearn\\metrics\\_classification.py:1308: UndefinedMetricWarning: Precision and F-score are ill-defined and being set to 0.0 in labels with no predicted samples. Use `zero_division` parameter to control this behavior.\n",
      "  _warn_prf(average, modifier, msg_start, len(result))\n",
      "c:\\users\\hebbar\\appdata\\local\\programs\\python\\python39\\lib\\site-packages\\sklearn\\metrics\\_classification.py:1308: UndefinedMetricWarning: Precision and F-score are ill-defined and being set to 0.0 in labels with no predicted samples. Use `zero_division` parameter to control this behavior.\n",
      "  _warn_prf(average, modifier, msg_start, len(result))\n"
     ]
    }
   ],
   "source": [
    "print(classification_report(y_test, y_lr_test_pred, target_names=target_names))"
   ]
  },
  {
   "cell_type": "markdown",
   "id": "4b948353",
   "metadata": {},
   "source": [
    "## Confusion Matrix for Logistic Regression"
   ]
  },
  {
   "cell_type": "markdown",
   "id": "2cfc886c",
   "metadata": {},
   "source": [
    "### For Training dataset"
   ]
  },
  {
   "cell_type": "code",
   "execution_count": 55,
   "id": "35a8c31a",
   "metadata": {},
   "outputs": [
    {
     "data": {
      "text/plain": [
       "array([[  1486,      0,      0,      0,      0,      0,      0,   1509],\n",
       "       [     0,    152,      0,      0,      0,      0,      0,     34],\n",
       "       [     0,      0,    335,      0,      0,      0,      0,    361],\n",
       "       [     0,      0,      0,    299,      0,      0,      0,    223],\n",
       "       [     0,      0,     17,      0,    470,      0,      9,    671],\n",
       "       [     0,      0,      0,      0,      0,      0,      0,    403],\n",
       "       [     0,      0,      0,      0,      0,      0,      0,     93],\n",
       "       [   110,      0,      3,    109,      5,      3,      0, 260626]],\n",
       "      dtype=int64)"
      ]
     },
     "execution_count": 55,
     "metadata": {},
     "output_type": "execute_result"
    }
   ],
   "source": [
    "confusion_matrix(y_train, y_lr_train_pred)"
   ]
  },
  {
   "cell_type": "markdown",
   "id": "547fba52",
   "metadata": {},
   "source": [
    "### For Testing dataset"
   ]
  },
  {
   "cell_type": "code",
   "execution_count": 56,
   "id": "f3b29cc1",
   "metadata": {},
   "outputs": [
    {
     "data": {
      "text/plain": [
       "array([[  514,     0,     0,     0,     0,     0,     0,   491],\n",
       "       [    0,    48,     0,     0,     0,     0,     0,     8],\n",
       "       [    0,     0,    94,     0,     0,     0,     0,    99],\n",
       "       [    0,     0,     0,    88,     0,     0,     0,    47],\n",
       "       [    0,     0,     3,     0,   153,     0,     2,   206],\n",
       "       [    0,     0,     0,     0,     0,     0,     0,   129],\n",
       "       [    0,     0,     0,     0,     0,     0,     0,    29],\n",
       "       [   32,     0,     0,    31,     2,     0,     0, 86997]],\n",
       "      dtype=int64)"
      ]
     },
     "execution_count": 56,
     "metadata": {},
     "output_type": "execute_result"
    }
   ],
   "source": [
    "confusion_matrix(y_test, y_lr_test_pred)"
   ]
  },
  {
   "cell_type": "markdown",
   "id": "83b2dafc",
   "metadata": {},
   "source": [
    "## Classification Report for K Nearest Neighbour"
   ]
  },
  {
   "cell_type": "markdown",
   "id": "e79c37d0",
   "metadata": {},
   "source": [
    "### For Training Dataset"
   ]
  },
  {
   "cell_type": "code",
   "execution_count": 57,
   "id": "53242d32",
   "metadata": {},
   "outputs": [
    {
     "name": "stdout",
     "output_type": "stream",
     "text": [
      "                    precision    recall  f1-score   support\n",
      "\n",
      "         DoSattack       0.64      1.00      0.78      2995\n",
      "       dataProbing       1.00      1.00      1.00       186\n",
      "  malitiousControl       1.00      1.00      1.00       696\n",
      "malitiousOperation       1.00      1.00      1.00       522\n",
      "              scan       1.00      1.00      1.00      1167\n",
      "            spying       1.00      1.00      1.00       403\n",
      "        wrongSetUp       1.00      1.00      1.00        93\n",
      "            Normal       1.00      0.99      1.00    260856\n",
      "\n",
      "          accuracy                           0.99    266918\n",
      "         macro avg       0.95      1.00      0.97    266918\n",
      "      weighted avg       1.00      0.99      0.99    266918\n",
      "\n"
     ]
    }
   ],
   "source": [
    "print(classification_report(y_train, y_knn_train_pred, target_names=target_names))"
   ]
  },
  {
   "cell_type": "markdown",
   "id": "fbad0fa2",
   "metadata": {},
   "source": [
    "### For Testing Dataset"
   ]
  },
  {
   "cell_type": "code",
   "execution_count": 58,
   "id": "dab972ad",
   "metadata": {},
   "outputs": [
    {
     "name": "stdout",
     "output_type": "stream",
     "text": [
      "                    precision    recall  f1-score   support\n",
      "\n",
      "         DoSattack       0.63      1.00      0.77      1005\n",
      "       dataProbing       1.00      1.00      1.00        56\n",
      "  malitiousControl       1.00      1.00      1.00       193\n",
      "malitiousOperation       1.00      1.00      1.00       135\n",
      "              scan       1.00      1.00      1.00       364\n",
      "            spying       1.00      1.00      1.00       129\n",
      "        wrongSetUp       1.00      1.00      1.00        29\n",
      "            Normal       1.00      0.99      1.00     87062\n",
      "\n",
      "          accuracy                           0.99     88973\n",
      "         macro avg       0.95      1.00      0.97     88973\n",
      "      weighted avg       1.00      0.99      0.99     88973\n",
      "\n"
     ]
    }
   ],
   "source": [
    "print(classification_report(y_test, y_knn_test_pred, target_names=target_names))"
   ]
  },
  {
   "cell_type": "markdown",
   "id": "0d2cac37",
   "metadata": {},
   "source": [
    "## Confusion Matrix for K Nearest Neighbour"
   ]
  },
  {
   "cell_type": "markdown",
   "id": "5c9e922b",
   "metadata": {},
   "source": [
    "### For Training dataset"
   ]
  },
  {
   "cell_type": "code",
   "execution_count": 59,
   "id": "cad84c51",
   "metadata": {},
   "outputs": [
    {
     "data": {
      "text/plain": [
       "array([[  2995,      0,      0,      0,      0,      0,      0,      0],\n",
       "       [     0,    186,      0,      0,      0,      0,      0,      0],\n",
       "       [     0,      0,    696,      0,      0,      0,      0,      0],\n",
       "       [     0,      0,      0,    522,      0,      0,      0,      0],\n",
       "       [     0,      0,      0,      0,   1167,      0,      0,      0],\n",
       "       [     0,      0,      0,      0,      0,    403,      0,      0],\n",
       "       [     0,      0,      0,      0,      0,      0,     93,      0],\n",
       "       [  1693,      0,      0,      0,      2,      1,      0, 259160]],\n",
       "      dtype=int64)"
      ]
     },
     "execution_count": 59,
     "metadata": {},
     "output_type": "execute_result"
    }
   ],
   "source": [
    "confusion_matrix(y_train, y_knn_train_pred)"
   ]
  },
  {
   "cell_type": "markdown",
   "id": "2dae355a",
   "metadata": {},
   "source": [
    "### For Testing dataset"
   ]
  },
  {
   "cell_type": "code",
   "execution_count": 60,
   "id": "b25ff790",
   "metadata": {},
   "outputs": [
    {
     "data": {
      "text/plain": [
       "array([[ 1005,     0,     0,     0,     0,     0,     0,     0],\n",
       "       [    0,    56,     0,     0,     0,     0,     0,     0],\n",
       "       [    0,     0,   193,     0,     0,     0,     0,     0],\n",
       "       [    0,     0,     0,   135,     0,     0,     0,     0],\n",
       "       [    0,     0,     0,     0,   364,     0,     0,     0],\n",
       "       [    0,     0,     0,     0,     0,   129,     0,     0],\n",
       "       [    0,     0,     0,     0,     0,     0,    29,     0],\n",
       "       [  591,     0,     0,     0,     1,     0,     0, 86470]],\n",
       "      dtype=int64)"
      ]
     },
     "execution_count": 60,
     "metadata": {},
     "output_type": "execute_result"
    }
   ],
   "source": [
    "confusion_matrix(y_test, y_knn_test_pred)"
   ]
  },
  {
   "cell_type": "markdown",
   "id": "bca2c069",
   "metadata": {},
   "source": [
    "## Classification Report for Decision Tree Classifier"
   ]
  },
  {
   "cell_type": "markdown",
   "id": "64170018",
   "metadata": {},
   "source": [
    "### For Training Dataset"
   ]
  },
  {
   "cell_type": "code",
   "execution_count": 61,
   "id": "2dd92bb0",
   "metadata": {},
   "outputs": [
    {
     "name": "stdout",
     "output_type": "stream",
     "text": [
      "                    precision    recall  f1-score   support\n",
      "\n",
      "         DoSattack       1.00      0.50      0.66      2995\n",
      "       dataProbing       1.00      1.00      1.00       186\n",
      "  malitiousControl       1.00      1.00      1.00       696\n",
      "malitiousOperation       1.00      1.00      1.00       522\n",
      "              scan       1.00      1.00      1.00      1167\n",
      "            spying       1.00      1.00      1.00       403\n",
      "        wrongSetUp       1.00      1.00      1.00        93\n",
      "            Normal       0.99      1.00      1.00    260856\n",
      "\n",
      "          accuracy                           0.99    266918\n",
      "         macro avg       1.00      0.94      0.96    266918\n",
      "      weighted avg       0.99      0.99      0.99    266918\n",
      "\n"
     ]
    }
   ],
   "source": [
    "print(classification_report(y_train, y_dtc_train_pred, target_names=target_names))"
   ]
  },
  {
   "cell_type": "markdown",
   "id": "93d62f2a",
   "metadata": {},
   "source": [
    "### For Testing Dataset"
   ]
  },
  {
   "cell_type": "code",
   "execution_count": 62,
   "id": "1219db94",
   "metadata": {},
   "outputs": [
    {
     "name": "stdout",
     "output_type": "stream",
     "text": [
      "                    precision    recall  f1-score   support\n",
      "\n",
      "         DoSattack       1.00      0.51      0.68      1005\n",
      "       dataProbing       1.00      1.00      1.00        56\n",
      "  malitiousControl       0.99      1.00      1.00       193\n",
      "malitiousOperation       1.00      1.00      1.00       135\n",
      "              scan       1.00      1.00      1.00       364\n",
      "            spying       0.98      1.00      0.99       129\n",
      "        wrongSetUp       1.00      1.00      1.00        29\n",
      "            Normal       0.99      1.00      1.00     87062\n",
      "\n",
      "          accuracy                           0.99     88973\n",
      "         macro avg       1.00      0.94      0.96     88973\n",
      "      weighted avg       0.99      0.99      0.99     88973\n",
      "\n"
     ]
    }
   ],
   "source": [
    "print(classification_report(y_test, y_dtc_test_pred, target_names=target_names))"
   ]
  },
  {
   "cell_type": "markdown",
   "id": "0bba3ccd",
   "metadata": {},
   "source": [
    "## Confusion Matrix for Decision Tree Classifier"
   ]
  },
  {
   "cell_type": "markdown",
   "id": "5dfd023f",
   "metadata": {},
   "source": [
    "### For Training dataset"
   ]
  },
  {
   "cell_type": "code",
   "execution_count": 63,
   "id": "0774235f",
   "metadata": {},
   "outputs": [
    {
     "data": {
      "text/plain": [
       "array([[  1486,      0,      0,      0,      0,      0,      0,   1509],\n",
       "       [     0,    186,      0,      0,      0,      0,      0,      0],\n",
       "       [     0,      0,    696,      0,      0,      0,      0,      0],\n",
       "       [     0,      0,      0,    522,      0,      0,      0,      0],\n",
       "       [     0,      0,      0,      0,   1167,      0,      0,      0],\n",
       "       [     0,      0,      0,      0,      0,    403,      0,      0],\n",
       "       [     0,      0,      0,      0,      0,      0,     93,      0],\n",
       "       [     0,      0,      0,      0,      0,      0,      0, 260856]],\n",
       "      dtype=int64)"
      ]
     },
     "execution_count": 63,
     "metadata": {},
     "output_type": "execute_result"
    }
   ],
   "source": [
    "confusion_matrix(y_train, y_dtc_train_pred)"
   ]
  },
  {
   "cell_type": "markdown",
   "id": "bfef637f",
   "metadata": {},
   "source": [
    "### For Testing dataset"
   ]
  },
  {
   "cell_type": "code",
   "execution_count": 64,
   "id": "af772bc0",
   "metadata": {},
   "outputs": [
    {
     "data": {
      "text/plain": [
       "array([[  514,     0,     0,     0,     0,     0,     0,   491],\n",
       "       [    0,    56,     0,     0,     0,     0,     0,     0],\n",
       "       [    0,     0,   193,     0,     0,     0,     0,     0],\n",
       "       [    0,     0,     0,   135,     0,     0,     0,     0],\n",
       "       [    0,     0,     0,     0,   364,     0,     0,     0],\n",
       "       [    0,     0,     0,     0,     0,   129,     0,     0],\n",
       "       [    0,     0,     0,     0,     0,     0,    29,     0],\n",
       "       [    0,     0,     1,     0,     0,     2,     0, 87059]],\n",
       "      dtype=int64)"
      ]
     },
     "execution_count": 64,
     "metadata": {},
     "output_type": "execute_result"
    }
   ],
   "source": [
    "confusion_matrix(y_test, y_dtc_test_pred)"
   ]
  },
  {
   "cell_type": "markdown",
   "id": "67cf76a7",
   "metadata": {},
   "source": [
    "## Classification Report for Random Forest Classifier"
   ]
  },
  {
   "cell_type": "markdown",
   "id": "3e633459",
   "metadata": {},
   "source": [
    "### For Training Dataset"
   ]
  },
  {
   "cell_type": "code",
   "execution_count": 65,
   "id": "bf326a81",
   "metadata": {},
   "outputs": [
    {
     "name": "stdout",
     "output_type": "stream",
     "text": [
      "                    precision    recall  f1-score   support\n",
      "\n",
      "         DoSattack       1.00      0.50      0.66      2995\n",
      "       dataProbing       1.00      1.00      1.00       186\n",
      "  malitiousControl       1.00      1.00      1.00       696\n",
      "malitiousOperation       1.00      1.00      1.00       522\n",
      "              scan       1.00      1.00      1.00      1167\n",
      "            spying       1.00      1.00      1.00       403\n",
      "        wrongSetUp       1.00      1.00      1.00        93\n",
      "            Normal       0.99      1.00      1.00    260856\n",
      "\n",
      "          accuracy                           0.99    266918\n",
      "         macro avg       1.00      0.94      0.96    266918\n",
      "      weighted avg       0.99      0.99      0.99    266918\n",
      "\n"
     ]
    }
   ],
   "source": [
    "print(classification_report(y_train, y_rfc_train_pred, target_names=target_names))"
   ]
  },
  {
   "cell_type": "markdown",
   "id": "04b69c75",
   "metadata": {},
   "source": [
    "### For Testing Dataset"
   ]
  },
  {
   "cell_type": "code",
   "execution_count": 66,
   "id": "fec236e4",
   "metadata": {},
   "outputs": [
    {
     "name": "stdout",
     "output_type": "stream",
     "text": [
      "                    precision    recall  f1-score   support\n",
      "\n",
      "         DoSattack       1.00      0.51      0.68      1005\n",
      "       dataProbing       1.00      1.00      1.00        56\n",
      "  malitiousControl       1.00      1.00      1.00       193\n",
      "malitiousOperation       1.00      1.00      1.00       135\n",
      "              scan       1.00      1.00      1.00       364\n",
      "            spying       1.00      1.00      1.00       129\n",
      "        wrongSetUp       1.00      1.00      1.00        29\n",
      "            Normal       0.99      1.00      1.00     87062\n",
      "\n",
      "          accuracy                           0.99     88973\n",
      "         macro avg       1.00      0.94      0.96     88973\n",
      "      weighted avg       0.99      0.99      0.99     88973\n",
      "\n"
     ]
    }
   ],
   "source": [
    "print(classification_report(y_test, y_rfc_test_pred, target_names=target_names))"
   ]
  },
  {
   "cell_type": "markdown",
   "id": "1cea4008",
   "metadata": {},
   "source": [
    "## Confusion Matrix for Random Forest Classifier"
   ]
  },
  {
   "cell_type": "markdown",
   "id": "0591eef2",
   "metadata": {},
   "source": [
    "### For Training dataset"
   ]
  },
  {
   "cell_type": "code",
   "execution_count": 67,
   "id": "8aa11f4f",
   "metadata": {},
   "outputs": [
    {
     "data": {
      "text/plain": [
       "array([[  1486,      0,      0,      0,      0,      0,      0,   1509],\n",
       "       [     0,    186,      0,      0,      0,      0,      0,      0],\n",
       "       [     0,      0,    696,      0,      0,      0,      0,      0],\n",
       "       [     0,      0,      0,    522,      0,      0,      0,      0],\n",
       "       [     0,      0,      0,      0,   1167,      0,      0,      0],\n",
       "       [     0,      0,      0,      0,      0,    403,      0,      0],\n",
       "       [     0,      0,      0,      0,      0,      0,     93,      0],\n",
       "       [     0,      0,      0,      0,      0,      0,      0, 260856]],\n",
       "      dtype=int64)"
      ]
     },
     "execution_count": 67,
     "metadata": {},
     "output_type": "execute_result"
    }
   ],
   "source": [
    "confusion_matrix(y_train, y_rfc_train_pred)"
   ]
  },
  {
   "cell_type": "markdown",
   "id": "cadd0c6f",
   "metadata": {},
   "source": [
    "### For Testing dataset"
   ]
  },
  {
   "cell_type": "code",
   "execution_count": 68,
   "id": "9ad8e843",
   "metadata": {},
   "outputs": [
    {
     "data": {
      "text/plain": [
       "array([[  514,     0,     0,     0,     0,     0,     0,   491],\n",
       "       [    0,    56,     0,     0,     0,     0,     0,     0],\n",
       "       [    0,     0,   193,     0,     0,     0,     0,     0],\n",
       "       [    0,     0,     0,   135,     0,     0,     0,     0],\n",
       "       [    0,     0,     0,     0,   364,     0,     0,     0],\n",
       "       [    0,     0,     0,     0,     0,   129,     0,     0],\n",
       "       [    0,     0,     0,     0,     0,     0,    29,     0],\n",
       "       [    0,     0,     0,     0,     0,     0,     0, 87062]],\n",
       "      dtype=int64)"
      ]
     },
     "execution_count": 68,
     "metadata": {},
     "output_type": "execute_result"
    }
   ],
   "source": [
    "confusion_matrix(y_test, y_rfc_test_pred)"
   ]
  },
  {
   "cell_type": "markdown",
   "id": "e8e929d6",
   "metadata": {},
   "source": [
    "## Classification Report for Naive Bayes"
   ]
  },
  {
   "cell_type": "markdown",
   "id": "b55641ce",
   "metadata": {},
   "source": [
    "### For Training Dataset"
   ]
  },
  {
   "cell_type": "code",
   "execution_count": 112,
   "id": "10592a09",
   "metadata": {},
   "outputs": [
    {
     "name": "stdout",
     "output_type": "stream",
     "text": [
      "                    precision    recall  f1-score   support\n",
      "\n",
      "         DoSattack       0.34      1.00      0.50      2995\n",
      "       dataProbing       0.04      0.82      0.07       186\n",
      "  malitiousControl       0.18      0.92      0.31       696\n",
      "malitiousOperation       0.67      1.00      0.80       522\n",
      "              scan       1.00      0.14      0.24      1167\n",
      "            spying       0.01      0.94      0.01       403\n",
      "        wrongSetUp       1.00      1.00      1.00        93\n",
      "            Normal       1.00      0.75      0.86    260856\n",
      "\n",
      "          accuracy                           0.75    266918\n",
      "         macro avg       0.53      0.82      0.48    266918\n",
      "      weighted avg       0.99      0.75      0.85    266918\n",
      "\n"
     ]
    }
   ],
   "source": [
    "print(classification_report(y_train, y_nb_train_pred, target_names=target_names))"
   ]
  },
  {
   "cell_type": "markdown",
   "id": "0b1ab396",
   "metadata": {},
   "source": [
    "### For Testing Dataset"
   ]
  },
  {
   "cell_type": "code",
   "execution_count": 113,
   "id": "bb06b7ec",
   "metadata": {},
   "outputs": [
    {
     "name": "stdout",
     "output_type": "stream",
     "text": [
      "                    precision    recall  f1-score   support\n",
      "\n",
      "         DoSattack       0.34      1.00      0.51      1005\n",
      "       dataProbing       0.04      0.86      0.07        56\n",
      "  malitiousControl       0.16      0.94      0.27       193\n",
      "malitiousOperation       0.64      1.00      0.78       135\n",
      "              scan       1.00      0.13      0.24       364\n",
      "            spying       0.01      0.93      0.01       129\n",
      "        wrongSetUp       1.00      1.00      1.00        29\n",
      "            Normal       1.00      0.75      0.86     87062\n",
      "\n",
      "          accuracy                           0.75     88973\n",
      "         macro avg       0.52      0.83      0.47     88973\n",
      "      weighted avg       0.99      0.75      0.85     88973\n",
      "\n"
     ]
    }
   ],
   "source": [
    "print(classification_report(y_test, y_nb_test_pred, target_names=target_names))"
   ]
  },
  {
   "cell_type": "markdown",
   "id": "d265b0ce",
   "metadata": {},
   "source": [
    "## Confusion Matrix for Naive Bayes"
   ]
  },
  {
   "cell_type": "markdown",
   "id": "a1072493",
   "metadata": {},
   "source": [
    "### For Training dataset"
   ]
  },
  {
   "cell_type": "code",
   "execution_count": 114,
   "id": "6540a02e",
   "metadata": {},
   "outputs": [
    {
     "data": {
      "text/plain": [
       "array([[  2995,      0,      0,      0,      0,      0,      0,      0],\n",
       "       [     0,    152,      0,      0,      0,      0,      0,     34],\n",
       "       [     0,      0,    638,      0,      0,      7,      0,     51],\n",
       "       [     0,      0,      0,    522,      0,      0,      0,      0],\n",
       "       [    10,      0,      0,      0,    161,    635,      0,    361],\n",
       "       [     0,      0,     26,      0,      0,    377,      0,      0],\n",
       "       [     0,      0,      0,      0,      0,      0,     93,      0],\n",
       "       [  5892,   3844,   2798,    255,      0,  51809,      0, 196258]],\n",
       "      dtype=int64)"
      ]
     },
     "execution_count": 114,
     "metadata": {},
     "output_type": "execute_result"
    }
   ],
   "source": [
    "confusion_matrix(y_train, y_nb_train_pred)"
   ]
  },
  {
   "cell_type": "markdown",
   "id": "5ee50617",
   "metadata": {},
   "source": [
    "### For Testing dataset"
   ]
  },
  {
   "cell_type": "code",
   "execution_count": 115,
   "id": "10f7c485",
   "metadata": {},
   "outputs": [
    {
     "data": {
      "text/plain": [
       "array([[ 1005,     0,     0,     0,     0,     0,     0,     0],\n",
       "       [    0,    48,     0,     0,     0,     0,     0,     8],\n",
       "       [    0,     0,   182,     0,     0,     2,     0,     9],\n",
       "       [    0,     0,     0,   135,     0,     0,     0,     0],\n",
       "       [    1,     0,     0,     0,    49,   197,     0,   117],\n",
       "       [    0,     0,     9,     0,     0,   120,     0,     0],\n",
       "       [    0,     0,     0,     0,     0,     0,    29,     0],\n",
       "       [ 1960,  1273,   963,    77,     0, 17275,     0, 65514]],\n",
       "      dtype=int64)"
      ]
     },
     "execution_count": 115,
     "metadata": {},
     "output_type": "execute_result"
    }
   ],
   "source": [
    "confusion_matrix(y_test, y_nb_test_pred)"
   ]
  },
  {
   "cell_type": "markdown",
   "id": "16087160",
   "metadata": {},
   "source": [
    "## Classification Report for Support Vector Machine Classifier"
   ]
  },
  {
   "cell_type": "markdown",
   "id": "5aad83f8",
   "metadata": {},
   "source": [
    "### For Training Dataset"
   ]
  },
  {
   "cell_type": "code",
   "execution_count": 73,
   "id": "d2a523ce",
   "metadata": {},
   "outputs": [
    {
     "name": "stderr",
     "output_type": "stream",
     "text": [
      "c:\\users\\hebbar\\appdata\\local\\programs\\python\\python39\\lib\\site-packages\\sklearn\\metrics\\_classification.py:1308: UndefinedMetricWarning: Precision and F-score are ill-defined and being set to 0.0 in labels with no predicted samples. Use `zero_division` parameter to control this behavior.\n",
      "  _warn_prf(average, modifier, msg_start, len(result))\n",
      "c:\\users\\hebbar\\appdata\\local\\programs\\python\\python39\\lib\\site-packages\\sklearn\\metrics\\_classification.py:1308: UndefinedMetricWarning: Precision and F-score are ill-defined and being set to 0.0 in labels with no predicted samples. Use `zero_division` parameter to control this behavior.\n",
      "  _warn_prf(average, modifier, msg_start, len(result))\n"
     ]
    },
    {
     "name": "stdout",
     "output_type": "stream",
     "text": [
      "                    precision    recall  f1-score   support\n",
      "\n",
      "         DoSattack       0.93      0.50      0.65      2995\n",
      "       dataProbing       0.00      0.00      0.00       186\n",
      "  malitiousControl       0.00      0.00      0.00       696\n",
      "malitiousOperation       0.73      0.57      0.64       522\n",
      "              scan       0.00      0.00      0.00      1167\n",
      "            spying       0.00      0.00      0.00       403\n",
      "        wrongSetUp       0.00      0.00      0.00        93\n",
      "            Normal       0.98      1.00      0.99    260856\n",
      "\n",
      "          accuracy                           0.98    266918\n",
      "         macro avg       0.33      0.26      0.29    266918\n",
      "      weighted avg       0.97      0.98      0.98    266918\n",
      "\n"
     ]
    },
    {
     "name": "stderr",
     "output_type": "stream",
     "text": [
      "c:\\users\\hebbar\\appdata\\local\\programs\\python\\python39\\lib\\site-packages\\sklearn\\metrics\\_classification.py:1308: UndefinedMetricWarning: Precision and F-score are ill-defined and being set to 0.0 in labels with no predicted samples. Use `zero_division` parameter to control this behavior.\n",
      "  _warn_prf(average, modifier, msg_start, len(result))\n"
     ]
    }
   ],
   "source": [
    "print(classification_report(y_train, y_svc_train_pred, target_names=target_names))"
   ]
  },
  {
   "cell_type": "markdown",
   "id": "0ad27db8",
   "metadata": {},
   "source": [
    "### For Testing Dataset"
   ]
  },
  {
   "cell_type": "code",
   "execution_count": 74,
   "id": "f5f1b3e9",
   "metadata": {},
   "outputs": [
    {
     "name": "stdout",
     "output_type": "stream",
     "text": [
      "                    precision    recall  f1-score   support\n",
      "\n",
      "         DoSattack       0.94      0.51      0.66      1005\n",
      "       dataProbing       0.00      0.00      0.00        56\n",
      "  malitiousControl       0.00      0.00      0.00       193\n",
      "malitiousOperation       0.74      0.65      0.69       135\n",
      "              scan       0.00      0.00      0.00       364\n",
      "            spying       0.00      0.00      0.00       129\n",
      "        wrongSetUp       0.00      0.00      0.00        29\n",
      "            Normal       0.99      1.00      0.99     87062\n",
      "\n",
      "          accuracy                           0.98     88973\n",
      "         macro avg       0.33      0.27      0.29     88973\n",
      "      weighted avg       0.98      0.98      0.98     88973\n",
      "\n"
     ]
    },
    {
     "name": "stderr",
     "output_type": "stream",
     "text": [
      "c:\\users\\hebbar\\appdata\\local\\programs\\python\\python39\\lib\\site-packages\\sklearn\\metrics\\_classification.py:1308: UndefinedMetricWarning: Precision and F-score are ill-defined and being set to 0.0 in labels with no predicted samples. Use `zero_division` parameter to control this behavior.\n",
      "  _warn_prf(average, modifier, msg_start, len(result))\n",
      "c:\\users\\hebbar\\appdata\\local\\programs\\python\\python39\\lib\\site-packages\\sklearn\\metrics\\_classification.py:1308: UndefinedMetricWarning: Precision and F-score are ill-defined and being set to 0.0 in labels with no predicted samples. Use `zero_division` parameter to control this behavior.\n",
      "  _warn_prf(average, modifier, msg_start, len(result))\n",
      "c:\\users\\hebbar\\appdata\\local\\programs\\python\\python39\\lib\\site-packages\\sklearn\\metrics\\_classification.py:1308: UndefinedMetricWarning: Precision and F-score are ill-defined and being set to 0.0 in labels with no predicted samples. Use `zero_division` parameter to control this behavior.\n",
      "  _warn_prf(average, modifier, msg_start, len(result))\n"
     ]
    }
   ],
   "source": [
    "print(classification_report(y_test, y_svc_test_pred, target_names=target_names))"
   ]
  },
  {
   "cell_type": "markdown",
   "id": "72f220ba",
   "metadata": {},
   "source": [
    "## Confusion Matrix for Support Vector Machine Classifier"
   ]
  },
  {
   "cell_type": "markdown",
   "id": "13ea55e5",
   "metadata": {},
   "source": [
    "### For Training dataset"
   ]
  },
  {
   "cell_type": "code",
   "execution_count": 75,
   "id": "783a1ff2",
   "metadata": {},
   "outputs": [
    {
     "data": {
      "text/plain": [
       "array([[  1486,      0,      0,      0,      0,      0,      0,   1509],\n",
       "       [     0,      0,      0,      0,      0,      0,      0,    186],\n",
       "       [     0,      0,      0,      0,      0,      0,      0,    696],\n",
       "       [     0,      0,      0,    299,      0,      0,      0,    223],\n",
       "       [     6,      0,      8,      0,      0,      0,      0,   1153],\n",
       "       [     0,      0,      0,      0,      0,      0,      0,    403],\n",
       "       [     0,      0,      0,      0,      0,      0,      0,     93],\n",
       "       [    99,      0,      0,    112,      0,      2,      0, 260643]],\n",
       "      dtype=int64)"
      ]
     },
     "execution_count": 75,
     "metadata": {},
     "output_type": "execute_result"
    }
   ],
   "source": [
    "confusion_matrix(y_train, y_svc_train_pred)"
   ]
  },
  {
   "cell_type": "markdown",
   "id": "c32a66fd",
   "metadata": {},
   "source": [
    "### For Testing dataset"
   ]
  },
  {
   "cell_type": "code",
   "execution_count": 76,
   "id": "d3509c73",
   "metadata": {},
   "outputs": [
    {
     "data": {
      "text/plain": [
       "array([[  514,     0,     0,     0,     0,     0,     0,   491],\n",
       "       [    0,     0,     0,     0,     0,     0,     0,    56],\n",
       "       [    0,     0,     0,     0,     0,     0,     0,   193],\n",
       "       [    0,     0,     0,    88,     0,     0,     0,    47],\n",
       "       [    5,     0,     2,     0,     0,     0,     0,   357],\n",
       "       [    0,     0,     0,     0,     0,     0,     0,   129],\n",
       "       [    0,     0,     0,     0,     0,     0,     0,    29],\n",
       "       [   28,     0,     0,    31,     0,     0,     0, 87003]],\n",
       "      dtype=int64)"
      ]
     },
     "execution_count": 76,
     "metadata": {},
     "output_type": "execute_result"
    }
   ],
   "source": [
    "confusion_matrix(y_test, y_svc_test_pred)"
   ]
  },
  {
   "cell_type": "markdown",
   "id": "4cf234b5",
   "metadata": {},
   "source": [
    "## Confusion Matrix for Artificial Neural Network"
   ]
  },
  {
   "cell_type": "markdown",
   "id": "dce6ce79",
   "metadata": {},
   "source": [
    "### For Training dataset"
   ]
  },
  {
   "cell_type": "code",
   "execution_count": 77,
   "id": "e94f22d2",
   "metadata": {},
   "outputs": [
    {
     "data": {
      "text/plain": [
       "array([[4.9520966e-16, 1.6500573e-35, 2.1900650e-16, ..., 4.0857522e-06,\n",
       "        6.3212279e-16, 9.9853718e-01],\n",
       "       [2.5253403e-16, 0.0000000e+00, 1.5039352e-22, ..., 2.6140771e-05,\n",
       "        3.5364246e-20, 9.9976861e-01],\n",
       "       [1.7589559e-37, 0.0000000e+00, 0.0000000e+00, ..., 8.2154415e-20,\n",
       "        0.0000000e+00, 1.0000000e+00],\n",
       "       ...,\n",
       "       [9.2619075e-06, 3.0336758e-16, 5.9368234e-14, ..., 3.4253597e-03,\n",
       "        1.5315234e-13, 9.5111692e-01],\n",
       "       [4.9712131e-16, 1.6844383e-35, 2.2134138e-16, ..., 4.0361688e-06,\n",
       "        6.2696675e-16, 9.9853331e-01],\n",
       "       [3.4666853e-14, 4.5429543e-28, 4.9990421e-13, ..., 8.0381797e-06,\n",
       "        5.3462531e-14, 9.8849821e-01]], dtype=float32)"
      ]
     },
     "execution_count": 77,
     "metadata": {},
     "output_type": "execute_result"
    }
   ],
   "source": [
    "y_ann_train_pred = ann.predict(x_train_sc)\n",
    "y_ann_train_pred"
   ]
  },
  {
   "cell_type": "code",
   "execution_count": 78,
   "id": "ce77dd60",
   "metadata": {},
   "outputs": [
    {
     "data": {
      "text/plain": [
       "(266918, 1)"
      ]
     },
     "execution_count": 78,
     "metadata": {},
     "output_type": "execute_result"
    }
   ],
   "source": [
    "y_train.shape"
   ]
  },
  {
   "cell_type": "code",
   "execution_count": 79,
   "id": "8171a89f",
   "metadata": {},
   "outputs": [
    {
     "data": {
      "text/plain": [
       "(266918, 8)"
      ]
     },
     "execution_count": 79,
     "metadata": {},
     "output_type": "execute_result"
    }
   ],
   "source": [
    "y_ann_train_pred.shape"
   ]
  },
  {
   "cell_type": "code",
   "execution_count": 80,
   "id": "40e6d033",
   "metadata": {},
   "outputs": [
    {
     "data": {
      "text/plain": [
       "[7, 7, 7, 7, 7]"
      ]
     },
     "execution_count": 80,
     "metadata": {},
     "output_type": "execute_result"
    }
   ],
   "source": [
    "y_ann_train_pred_labels = [np.argmax(i) for i in y_ann_train_pred]\n",
    "y_ann_train_pred_labels[:5]"
   ]
  },
  {
   "cell_type": "code",
   "execution_count": 81,
   "id": "5eb1de95",
   "metadata": {},
   "outputs": [
    {
     "name": "stdout",
     "output_type": "stream",
     "text": [
      "tf.Tensor(\n",
      "[[  1486      0      0      0      0      0      0   1509]\n",
      " [     0    186      0      0      0      0      0      0]\n",
      " [     0      0    689      0      7      0      0      0]\n",
      " [     0      0      0    522      0      0      0      0]\n",
      " [     0      0      0      0   1167      0      0      0]\n",
      " [     0      0      0      0      0    403      0      0]\n",
      " [     0      0      0      0      0      0     93      0]\n",
      " [     5      0      2      0     11      4      0 260834]], shape=(8, 8), dtype=int32)\n"
     ]
    }
   ],
   "source": [
    "print(tf.math.confusion_matrix(labels=y_train, predictions=y_ann_train_pred_labels))"
   ]
  },
  {
   "cell_type": "markdown",
   "id": "6f719272",
   "metadata": {},
   "source": [
    "### For Testing dataset"
   ]
  },
  {
   "cell_type": "code",
   "execution_count": 82,
   "id": "b1841298",
   "metadata": {},
   "outputs": [
    {
     "data": {
      "text/plain": [
       "array([[3.6851128e-17, 9.9178024e-36, 2.0833830e-16, ..., 5.5361972e-05,\n",
       "        9.2830254e-15, 9.9903047e-01],\n",
       "       [1.2463939e-27, 0.0000000e+00, 1.5808135e-14, ..., 8.4415762e-19,\n",
       "        1.6410281e-23, 9.9999899e-01],\n",
       "       [0.0000000e+00, 0.0000000e+00, 0.0000000e+00, ..., 3.0847943e-28,\n",
       "        0.0000000e+00, 8.9114815e-02],\n",
       "       ...,\n",
       "       [8.0591803e-21, 0.0000000e+00, 2.5427861e-18, ..., 1.8806703e-11,\n",
       "        6.9359146e-25, 9.9999177e-01],\n",
       "       [0.0000000e+00, 2.1485711e-26, 5.1018814e-35, ..., 5.4584727e-25,\n",
       "        0.0000000e+00, 9.1820562e-01],\n",
       "       [2.4936598e-06, 1.1911538e-16, 2.1314779e-10, ..., 3.2101488e-07,\n",
       "        4.2536617e-12, 8.7413716e-01]], dtype=float32)"
      ]
     },
     "execution_count": 82,
     "metadata": {},
     "output_type": "execute_result"
    }
   ],
   "source": [
    "y_ann_test_pred = ann.predict(x_test_sc)\n",
    "y_ann_test_pred"
   ]
  },
  {
   "cell_type": "code",
   "execution_count": 83,
   "id": "7b7b381f",
   "metadata": {},
   "outputs": [
    {
     "data": {
      "text/plain": [
       "(88973, 1)"
      ]
     },
     "execution_count": 83,
     "metadata": {},
     "output_type": "execute_result"
    }
   ],
   "source": [
    "y_test.shape"
   ]
  },
  {
   "cell_type": "code",
   "execution_count": 84,
   "id": "40e59d7c",
   "metadata": {},
   "outputs": [
    {
     "data": {
      "text/plain": [
       "(88973, 8)"
      ]
     },
     "execution_count": 84,
     "metadata": {},
     "output_type": "execute_result"
    }
   ],
   "source": [
    "y_ann_test_pred.shape"
   ]
  },
  {
   "cell_type": "code",
   "execution_count": 85,
   "id": "f00120cd",
   "metadata": {},
   "outputs": [
    {
     "data": {
      "text/plain": [
       "[7, 7, 7, 7, 7]"
      ]
     },
     "execution_count": 85,
     "metadata": {},
     "output_type": "execute_result"
    }
   ],
   "source": [
    "y_ann_test_pred_labels = [np.argmax(i) for i in y_ann_test_pred]\n",
    "y_ann_test_pred_labels[:5]"
   ]
  },
  {
   "cell_type": "code",
   "execution_count": 86,
   "id": "fb2fd6dd",
   "metadata": {},
   "outputs": [
    {
     "name": "stdout",
     "output_type": "stream",
     "text": [
      "tf.Tensor(\n",
      "[[  514     0     0     0     0     0     0   491]\n",
      " [    0    56     0     0     0     0     0     0]\n",
      " [    0     0   191     0     2     0     0     0]\n",
      " [    0     0     0   135     0     0     0     0]\n",
      " [    0     0     0     0   364     0     0     0]\n",
      " [    0     0     0     0     0   129     0     0]\n",
      " [    0     0     0     0     0     0    29     0]\n",
      " [    1     1     1     0     3     0     0 87056]], shape=(8, 8), dtype=int32)\n"
     ]
    }
   ],
   "source": [
    "print(tf.math.confusion_matrix(labels=y_test, predictions=y_ann_test_pred_labels))"
   ]
  },
  {
   "cell_type": "markdown",
   "id": "2f1c5b5c",
   "metadata": {},
   "source": [
    "## Classification Report for Artificial Neural Network"
   ]
  },
  {
   "cell_type": "markdown",
   "id": "d674325b",
   "metadata": {},
   "source": [
    "### For Training dataset"
   ]
  },
  {
   "cell_type": "code",
   "execution_count": 87,
   "id": "dba49b55",
   "metadata": {},
   "outputs": [
    {
     "name": "stdout",
     "output_type": "stream",
     "text": [
      "                    precision    recall  f1-score   support\n",
      "\n",
      "         DoSattack       1.00      0.50      0.66      2995\n",
      "       dataProbing       1.00      1.00      1.00       186\n",
      "  malitiousControl       1.00      0.99      0.99       696\n",
      "malitiousOperation       1.00      1.00      1.00       522\n",
      "              scan       0.98      1.00      0.99      1167\n",
      "            spying       0.99      1.00      1.00       403\n",
      "        wrongSetUp       1.00      1.00      1.00        93\n",
      "            Normal       0.99      1.00      1.00    260856\n",
      "\n",
      "          accuracy                           0.99    266918\n",
      "         macro avg       1.00      0.94      0.96    266918\n",
      "      weighted avg       0.99      0.99      0.99    266918\n",
      "\n"
     ]
    }
   ],
   "source": [
    "print(classification_report(y_train, y_ann_train_pred_labels, target_names=target_names))"
   ]
  },
  {
   "cell_type": "markdown",
   "id": "c9d14f51",
   "metadata": {},
   "source": [
    "### For Testing dataset"
   ]
  },
  {
   "cell_type": "code",
   "execution_count": 88,
   "id": "ffdaf963",
   "metadata": {},
   "outputs": [
    {
     "name": "stdout",
     "output_type": "stream",
     "text": [
      "                    precision    recall  f1-score   support\n",
      "\n",
      "         DoSattack       1.00      0.51      0.68      1005\n",
      "       dataProbing       0.98      1.00      0.99        56\n",
      "  malitiousControl       0.99      0.99      0.99       193\n",
      "malitiousOperation       1.00      1.00      1.00       135\n",
      "              scan       0.99      1.00      0.99       364\n",
      "            spying       1.00      1.00      1.00       129\n",
      "        wrongSetUp       1.00      1.00      1.00        29\n",
      "            Normal       0.99      1.00      1.00     87062\n",
      "\n",
      "          accuracy                           0.99     88973\n",
      "         macro avg       0.99      0.94      0.96     88973\n",
      "      weighted avg       0.99      0.99      0.99     88973\n",
      "\n"
     ]
    }
   ],
   "source": [
    "print(classification_report(y_test, y_ann_test_pred_labels, target_names=target_names))"
   ]
  },
  {
   "cell_type": "code",
   "execution_count": 89,
   "id": "825dfb6d",
   "metadata": {},
   "outputs": [
    {
     "data": {
      "text/plain": [
       "(array([7, 7, 7, ..., 7, 7, 7], dtype=int64),\n",
       " array([7, 7, 7, ..., 7, 7, 7], dtype=int64))"
      ]
     },
     "execution_count": 89,
     "metadata": {},
     "output_type": "execute_result"
    }
   ],
   "source": [
    "y_ann_train_labels = np.array(y_ann_train_pred_labels)\n",
    "y_ann_test_labels = np.array(y_ann_test_pred_labels)\n",
    "y_ann_train_labels, y_ann_test_labels"
   ]
  },
  {
   "cell_type": "markdown",
   "id": "2c10f211",
   "metadata": {},
   "source": [
    "### Creating dataset"
   ]
  },
  {
   "cell_type": "code",
   "execution_count": 123,
   "id": "e31cf712",
   "metadata": {},
   "outputs": [],
   "source": [
    "dataset = [[lr_time,lr_train_accuracy,lr_test_accuracy],\n",
    "           [knn_time,knn_train_accuracy,knn_test_accuracy],\n",
    "           [dtc_time,dtc_train_accuracy,dtc_test_accuracy],\n",
    "           [rfc_time,rfc_train_accuracy,rfc_test_accuracy],\n",
    "           [nb_time,nb_train_accuracy,nb_test_accuracy],\n",
    "           [svc_time,svc_train_accuracy,svc_test_accuracy],\n",
    "           [ann_time,ann_train_accuracy,ann_test_accuracy]\n",
    "          ]"
   ]
  },
  {
   "cell_type": "code",
   "execution_count": 124,
   "id": "64c93018",
   "metadata": {},
   "outputs": [
    {
     "data": {
      "text/plain": [
       "[[39.63400387763977, 0.9867000352168082, 0.9878727254335585],\n",
       " [2.7285642623901367, 0.993645988655692, 0.9933462960673463],\n",
       " [1.8945696353912354, 0.9943465783499053, 0.9944477538129545],\n",
       " [86.07441997528076, 0.9943465783499053, 0.9944814719072078],\n",
       " [0.0859382152557373, 0.9772889052068425, 0.9785215739606398],\n",
       " [78.33316397666931, 0.9831783544009771, 0.9846245490204893],\n",
       " [279.6557123661041, 0.9942379593849182, 0.9943915605545044]]"
      ]
     },
     "execution_count": 124,
     "metadata": {},
     "output_type": "execute_result"
    }
   ],
   "source": [
    "dataset"
   ]
  },
  {
   "cell_type": "code",
   "execution_count": 125,
   "id": "ade717f7",
   "metadata": {},
   "outputs": [
    {
     "data": {
      "text/html": [
       "<div>\n",
       "<style scoped>\n",
       "    .dataframe tbody tr th:only-of-type {\n",
       "        vertical-align: middle;\n",
       "    }\n",
       "\n",
       "    .dataframe tbody tr th {\n",
       "        vertical-align: top;\n",
       "    }\n",
       "\n",
       "    .dataframe thead th {\n",
       "        text-align: right;\n",
       "    }\n",
       "</style>\n",
       "<table border=\"1\" class=\"dataframe\">\n",
       "  <thead>\n",
       "    <tr style=\"text-align: right;\">\n",
       "      <th></th>\n",
       "      <th>Time_Taken</th>\n",
       "      <th>Training_Accuracy</th>\n",
       "      <th>Testing_Accuracy</th>\n",
       "    </tr>\n",
       "  </thead>\n",
       "  <tbody>\n",
       "    <tr>\n",
       "      <th>Logistic Regression</th>\n",
       "      <td>39.634004</td>\n",
       "      <td>0.986700</td>\n",
       "      <td>0.987873</td>\n",
       "    </tr>\n",
       "    <tr>\n",
       "      <th>K Nearest Neighbour</th>\n",
       "      <td>2.728564</td>\n",
       "      <td>0.993646</td>\n",
       "      <td>0.993346</td>\n",
       "    </tr>\n",
       "    <tr>\n",
       "      <th>Decision Tree</th>\n",
       "      <td>1.894570</td>\n",
       "      <td>0.994347</td>\n",
       "      <td>0.994448</td>\n",
       "    </tr>\n",
       "    <tr>\n",
       "      <th>Random Forest</th>\n",
       "      <td>86.074420</td>\n",
       "      <td>0.994347</td>\n",
       "      <td>0.994481</td>\n",
       "    </tr>\n",
       "    <tr>\n",
       "      <th>Naive Bayes</th>\n",
       "      <td>0.085938</td>\n",
       "      <td>0.977289</td>\n",
       "      <td>0.978522</td>\n",
       "    </tr>\n",
       "    <tr>\n",
       "      <th>Support Vector Machine</th>\n",
       "      <td>78.333164</td>\n",
       "      <td>0.983178</td>\n",
       "      <td>0.984625</td>\n",
       "    </tr>\n",
       "    <tr>\n",
       "      <th>Artificial Neural Network</th>\n",
       "      <td>279.655712</td>\n",
       "      <td>0.994238</td>\n",
       "      <td>0.994392</td>\n",
       "    </tr>\n",
       "  </tbody>\n",
       "</table>\n",
       "</div>"
      ],
      "text/plain": [
       "                           Time_Taken  Training_Accuracy  Testing_Accuracy\n",
       "Logistic Regression         39.634004           0.986700          0.987873\n",
       "K Nearest Neighbour          2.728564           0.993646          0.993346\n",
       "Decision Tree                1.894570           0.994347          0.994448\n",
       "Random Forest               86.074420           0.994347          0.994481\n",
       "Naive Bayes                  0.085938           0.977289          0.978522\n",
       "Support Vector Machine      78.333164           0.983178          0.984625\n",
       "Artificial Neural Network  279.655712           0.994238          0.994392"
      ]
     },
     "execution_count": 125,
     "metadata": {},
     "output_type": "execute_result"
    }
   ],
   "source": [
    "comparison = pd.DataFrame(dataset, columns = ['Time_Taken','Training_Accuracy','Testing_Accuracy'], \n",
    "                         index=['Logistic Regression','K Nearest Neighbour','Decision Tree','Random Forest','Naive Bayes','Support Vector Machine','Artificial Neural Network',])\n",
    "comparison"
   ]
  },
  {
   "cell_type": "code",
   "execution_count": 126,
   "id": "2dbfaccc",
   "metadata": {},
   "outputs": [],
   "source": [
    "comparison.to_csv('performance.csv')"
   ]
  },
  {
   "cell_type": "code",
   "execution_count": null,
   "id": "b566ac92",
   "metadata": {},
   "outputs": [],
   "source": []
  }
 ],
 "metadata": {
  "kernelspec": {
   "display_name": "Python 3 (ipykernel)",
   "language": "python",
   "name": "python3"
  },
  "language_info": {
   "codemirror_mode": {
    "name": "ipython",
    "version": 3
   },
   "file_extension": ".py",
   "mimetype": "text/x-python",
   "name": "python",
   "nbconvert_exporter": "python",
   "pygments_lexer": "ipython3",
   "version": "3.9.6"
  }
 },
 "nbformat": 4,
 "nbformat_minor": 5
}
