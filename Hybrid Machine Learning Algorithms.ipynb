{
 "cells": [
  {
   "cell_type": "markdown",
   "id": "6595a6f8",
   "metadata": {},
   "source": [
    "## Importing libraries"
   ]
  },
  {
   "cell_type": "code",
   "execution_count": 45,
   "id": "f71b93da",
   "metadata": {},
   "outputs": [],
   "source": [
    "import numpy as np\n",
    "import pandas as pd\n",
    "\n",
    "import matplotlib.pyplot as plt\n",
    "\n",
    "\n",
    "from sklearn.ensemble import VotingClassifier\n",
    "from sklearn import model_selection\n",
    "from sklearn.metrics import confusion_matrix,classification_report\n",
    "from sklearn. preprocessing import MinMaxScaler\n",
    "from sklearn.model_selection import train_test_split\n",
    "\n",
    "from sklearn import preprocessing\n",
    "\n",
    "from sklearn.tree import DecisionTreeClassifier\n",
    "from sklearn.linear_model import LogisticRegression\n",
    "from sklearn.ensemble import RandomForestClassifier\n",
    "from sklearn.neighbors import KNeighborsClassifier\n",
    "from sklearn.naive_bayes import MultinomialNB\n",
    "from sklearn.svm import LinearSVC"
   ]
  },
  {
   "cell_type": "markdown",
   "id": "4cfc90a5",
   "metadata": {},
   "source": [
    "### Loading dataset"
   ]
  },
  {
   "cell_type": "code",
   "execution_count": 11,
   "id": "9be4f2e8",
   "metadata": {},
   "outputs": [
    {
     "data": {
      "text/html": [
       "<div>\n",
       "<style scoped>\n",
       "    .dataframe tbody tr th:only-of-type {\n",
       "        vertical-align: middle;\n",
       "    }\n",
       "\n",
       "    .dataframe tbody tr th {\n",
       "        vertical-align: top;\n",
       "    }\n",
       "\n",
       "    .dataframe thead th {\n",
       "        text-align: right;\n",
       "    }\n",
       "</style>\n",
       "<table border=\"1\" class=\"dataframe\">\n",
       "  <thead>\n",
       "    <tr style=\"text-align: right;\">\n",
       "      <th></th>\n",
       "      <th>0</th>\n",
       "      <th>1</th>\n",
       "      <th>2</th>\n",
       "      <th>3</th>\n",
       "      <th>4</th>\n",
       "      <th>5</th>\n",
       "      <th>6</th>\n",
       "      <th>7</th>\n",
       "      <th>8</th>\n",
       "      <th>9</th>\n",
       "      <th>10</th>\n",
       "      <th>11</th>\n",
       "    </tr>\n",
       "  </thead>\n",
       "  <tbody>\n",
       "    <tr>\n",
       "      <th>0</th>\n",
       "      <td>7</td>\n",
       "      <td>21</td>\n",
       "      <td>30</td>\n",
       "      <td>2</td>\n",
       "      <td>3</td>\n",
       "      <td>29</td>\n",
       "      <td>2</td>\n",
       "      <td>3</td>\n",
       "      <td>57</td>\n",
       "      <td>5</td>\n",
       "      <td>1</td>\n",
       "      <td>0</td>\n",
       "    </tr>\n",
       "    <tr>\n",
       "      <th>1</th>\n",
       "      <td>7</td>\n",
       "      <td>32</td>\n",
       "      <td>70</td>\n",
       "      <td>2</td>\n",
       "      <td>4</td>\n",
       "      <td>67</td>\n",
       "      <td>2</td>\n",
       "      <td>4</td>\n",
       "      <td>132</td>\n",
       "      <td>5</td>\n",
       "      <td>1</td>\n",
       "      <td>0</td>\n",
       "    </tr>\n",
       "    <tr>\n",
       "      <th>2</th>\n",
       "      <td>7</td>\n",
       "      <td>15</td>\n",
       "      <td>1</td>\n",
       "      <td>2</td>\n",
       "      <td>2</td>\n",
       "      <td>0</td>\n",
       "      <td>2</td>\n",
       "      <td>2</td>\n",
       "      <td>0</td>\n",
       "      <td>5</td>\n",
       "      <td>1</td>\n",
       "      <td>0</td>\n",
       "    </tr>\n",
       "    <tr>\n",
       "      <th>3</th>\n",
       "      <td>7</td>\n",
       "      <td>33</td>\n",
       "      <td>77</td>\n",
       "      <td>2</td>\n",
       "      <td>7</td>\n",
       "      <td>72</td>\n",
       "      <td>2</td>\n",
       "      <td>7</td>\n",
       "      <td>142</td>\n",
       "      <td>5</td>\n",
       "      <td>1</td>\n",
       "      <td>0</td>\n",
       "    </tr>\n",
       "    <tr>\n",
       "      <th>4</th>\n",
       "      <td>7</td>\n",
       "      <td>55</td>\n",
       "      <td>78</td>\n",
       "      <td>3</td>\n",
       "      <td>7</td>\n",
       "      <td>73</td>\n",
       "      <td>3</td>\n",
       "      <td>7</td>\n",
       "      <td>144</td>\n",
       "      <td>6</td>\n",
       "      <td>1</td>\n",
       "      <td>0</td>\n",
       "    </tr>\n",
       "  </tbody>\n",
       "</table>\n",
       "</div>"
      ],
      "text/plain": [
       "   0   1   2  3  4   5  6  7    8  9  10  11\n",
       "0  7  21  30  2  3  29  2  3   57  5   1   0\n",
       "1  7  32  70  2  4  67  2  4  132  5   1   0\n",
       "2  7  15   1  2  2   0  2  2    0  5   1   0\n",
       "3  7  33  77  2  7  72  2  7  142  5   1   0\n",
       "4  7  55  78  3  7  73  3  7  144  6   1   0"
      ]
     },
     "execution_count": 11,
     "metadata": {},
     "output_type": "execute_result"
    }
   ],
   "source": [
    "data = pd.read_csv('dataset.csv')\n",
    "data.head()"
   ]
  },
  {
   "cell_type": "code",
   "execution_count": 12,
   "id": "a43cd7a0",
   "metadata": {},
   "outputs": [
    {
     "data": {
      "text/plain": [
       "(array([[  21,   30,    2, ...,    5,    1,    0],\n",
       "        [  32,   70,    2, ...,    5,    1,    0],\n",
       "        [  15,    1,    2, ...,    5,    1,    0],\n",
       "        ...,\n",
       "        [  82,   14,    7, ...,    1,    0,    1],\n",
       "        [  30,   62,    2, ...,    3,    0,    0],\n",
       "        [  30,   62,    2, ...,    7,    0, 9156]], dtype=int64),\n",
       " array([7, 7, 7, ..., 7, 7, 7], dtype=int64))"
      ]
     },
     "execution_count": 12,
     "metadata": {},
     "output_type": "execute_result"
    }
   ],
   "source": [
    "y = data.iloc[:,0].values\n",
    "x = data.iloc[:,1:].values\n",
    "x,y"
   ]
  },
  {
   "cell_type": "markdown",
   "id": "a8160e09",
   "metadata": {},
   "source": [
    "### Splitting the dataset into train and test"
   ]
  },
  {
   "cell_type": "code",
   "execution_count": 35,
   "id": "49c4fc14",
   "metadata": {},
   "outputs": [],
   "source": [
    "x_train,x_test,y_train,y_test = train_test_split(x,y)\n"
   ]
  },
  {
   "cell_type": "markdown",
   "id": "9f74cd83",
   "metadata": {},
   "source": [
    "### Scaling the dataset"
   ]
  },
  {
   "cell_type": "code",
   "execution_count": 36,
   "id": "3b339af4",
   "metadata": {},
   "outputs": [],
   "source": [
    "mm = MinMaxScaler()\n",
    "x_train_mm = mm.fit_transform(x_train)\n",
    "x_test_mm = mm.transform(x_test)"
   ]
  },
  {
   "cell_type": "code",
   "execution_count": 37,
   "id": "6703dc13",
   "metadata": {
    "scrolled": true
   },
   "outputs": [
    {
     "data": {
      "text/plain": [
       "(array([[9.75903614e-01, 1.00000000e+00, 1.00000000e+00, ...,\n",
       "         0.00000000e+00, 0.00000000e+00, 1.88590288e-04],\n",
       "        [3.37349398e-01, 6.36363636e-01, 2.85714286e-01, ...,\n",
       "         3.00000000e-01, 0.00000000e+00, 9.42951438e-05],\n",
       "        [1.92771084e-01, 6.81818182e-02, 2.85714286e-01, ...,\n",
       "         7.00000000e-01, 0.00000000e+00, 5.43611504e-01],\n",
       "        ...,\n",
       "        [3.61445783e-01, 7.04545455e-01, 2.85714286e-01, ...,\n",
       "         3.00000000e-01, 0.00000000e+00, 9.42951438e-05],\n",
       "        [1.20481928e-02, 9.20454545e-01, 0.00000000e+00, ...,\n",
       "         0.00000000e+00, 1.00000000e+00, 6.60066007e-04],\n",
       "        [4.81927711e-02, 1.70454545e-01, 0.00000000e+00, ...,\n",
       "         0.00000000e+00, 0.00000000e+00, 8.48656294e-04]]),\n",
       " array([[2.65060241e-01, 4.09090909e-01, 2.85714286e-01, ...,\n",
       "         7.00000000e-01, 0.00000000e+00, 6.70721358e-01],\n",
       "        [3.49397590e-01, 6.70454545e-01, 2.85714286e-01, ...,\n",
       "         3.00000000e-01, 0.00000000e+00, 0.00000000e+00],\n",
       "        [8.79518072e-01, 6.59090909e-01, 5.71428571e-01, ...,\n",
       "         7.00000000e-01, 1.00000000e+00, 6.19707685e-01],\n",
       "        ...,\n",
       "        [3.25301205e-01, 6.02272727e-01, 2.85714286e-01, ...,\n",
       "         3.00000000e-01, 0.00000000e+00, 0.00000000e+00],\n",
       "        [2.04819277e-01, 1.25000000e-01, 2.85714286e-01, ...,\n",
       "         7.00000000e-01, 0.00000000e+00, 6.57331447e-01],\n",
       "        [4.81927711e-02, 1.70454545e-01, 0.00000000e+00, ...,\n",
       "         0.00000000e+00, 0.00000000e+00, 1.88590288e-04]]))"
      ]
     },
     "execution_count": 37,
     "metadata": {},
     "output_type": "execute_result"
    }
   ],
   "source": [
    "x_train_mm,x_test_mm"
   ]
  },
  {
   "cell_type": "code",
   "execution_count": 49,
   "id": "2f81dbe2",
   "metadata": {},
   "outputs": [],
   "source": [
    "target_names = ['DoSattack','dataProbing','malitiousControl', 'malitiousOperation','scan','spying', 'wrongSetUp','Normal']"
   ]
  },
  {
   "cell_type": "markdown",
   "id": "a352ab08",
   "metadata": {},
   "source": [
    "## Defining models "
   ]
  },
  {
   "cell_type": "code",
   "execution_count": 23,
   "id": "0f3efab0",
   "metadata": {},
   "outputs": [],
   "source": [
    "m1 = LogisticRegression(multi_class = 'multinomial', penalty = 'l2')\n",
    "m2 = KNeighborsClassifier(n_neighbors = 9, metric = 'minkowski')\n",
    "m3 = DecisionTreeClassifier()\n",
    "m4 = RandomForestClassifier()\n",
    "m5 = MultinomialNB()\n",
    "m6 = LinearSVC()"
   ]
  },
  {
   "cell_type": "code",
   "execution_count": 30,
   "id": "2b641ba9",
   "metadata": {
    "scrolled": true
   },
   "outputs": [
    {
     "data": {
      "text/plain": [
       "[('lr', LogisticRegression(multi_class='multinomial')),\n",
       " ('knn', KNeighborsClassifier(n_neighbors=9)),\n",
       " ('dtc', DecisionTreeClassifier()),\n",
       " ('rf', RandomForestClassifier()),\n",
       " ('nb', MultinomialNB()),\n",
       " ('svc', LinearSVC())]"
      ]
     },
     "execution_count": 30,
     "metadata": {},
     "output_type": "execute_result"
    }
   ],
   "source": [
    "hybrid = []\n",
    "hybrid.append(('lr',m1))\n",
    "hybrid.append(('knn',m2))\n",
    "hybrid.append(('dtc',m3))\n",
    "hybrid.append(('rf',m4))\n",
    "hybrid.append(('nb',m5))\n",
    "hybrid.append(('svc',m6))\n",
    "hybrid"
   ]
  },
  {
   "cell_type": "code",
   "execution_count": 39,
   "id": "ff95debf",
   "metadata": {},
   "outputs": [
    {
     "name": "stderr",
     "output_type": "stream",
     "text": [
      "c:\\users\\hebbar\\appdata\\local\\programs\\python\\python39\\lib\\site-packages\\sklearn\\linear_model\\_logistic.py:814: ConvergenceWarning: lbfgs failed to converge (status=1):\n",
      "STOP: TOTAL NO. of ITERATIONS REACHED LIMIT.\n",
      "\n",
      "Increase the number of iterations (max_iter) or scale the data as shown in:\n",
      "    https://scikit-learn.org/stable/modules/preprocessing.html\n",
      "Please also refer to the documentation for alternative solver options:\n",
      "    https://scikit-learn.org/stable/modules/linear_model.html#logistic-regression\n",
      "  n_iter_i = _check_optimize_result(\n"
     ]
    }
   ],
   "source": [
    "ensemble = VotingClassifier(hybrid)\n",
    "ensemble.fit(x_train_mm, y_train)\n",
    "y_pred = ensemble.predict(x_test_mm)"
   ]
  },
  {
   "cell_type": "code",
   "execution_count": 40,
   "id": "ac76155b",
   "metadata": {},
   "outputs": [
    {
     "data": {
      "text/plain": [
       "array([7, 7, 7, ..., 7, 7, 7], dtype=int64)"
      ]
     },
     "execution_count": 40,
     "metadata": {},
     "output_type": "execute_result"
    }
   ],
   "source": [
    "y_pred"
   ]
  },
  {
   "cell_type": "code",
   "execution_count": 41,
   "id": "b5d3a2ff",
   "metadata": {},
   "outputs": [
    {
     "data": {
      "text/plain": [
       "0.9941667696941768"
      ]
     },
     "execution_count": 41,
     "metadata": {},
     "output_type": "execute_result"
    }
   ],
   "source": [
    "ensemble.score(x_test_mm,y_test)"
   ]
  },
  {
   "cell_type": "code",
   "execution_count": 44,
   "id": "16c6ec91",
   "metadata": {},
   "outputs": [
    {
     "data": {
      "text/plain": [
       "array([[  512,     0,     0,     0,     0,     0,     0,   512],\n",
       "       [    0,    66,     0,     0,     0,     0,     0,     0],\n",
       "       [    0,     0,   229,     0,     0,     0,     0,     5],\n",
       "       [    0,     0,     0,   168,     0,     0,     0,     0],\n",
       "       [    0,     0,     0,     0,   375,     0,     0,     0],\n",
       "       [    0,     0,     0,     0,     0,   147,     0,     0],\n",
       "       [    0,     0,     0,     0,     0,     0,    32,     0],\n",
       "       [    1,     0,     0,     0,     1,     0,     0, 86925]],\n",
       "      dtype=int64)"
      ]
     },
     "execution_count": 44,
     "metadata": {},
     "output_type": "execute_result"
    }
   ],
   "source": [
    "confusion_matrix(y_test, y_pred)"
   ]
  },
  {
   "cell_type": "code",
   "execution_count": 50,
   "id": "6aa05fe2",
   "metadata": {},
   "outputs": [
    {
     "name": "stdout",
     "output_type": "stream",
     "text": [
      "                    precision    recall  f1-score   support\n",
      "\n",
      "         DoSattack       1.00      0.50      0.67      1024\n",
      "       dataProbing       1.00      1.00      1.00        66\n",
      "  malitiousControl       1.00      0.98      0.99       234\n",
      "malitiousOperation       1.00      1.00      1.00       168\n",
      "              scan       1.00      1.00      1.00       375\n",
      "            spying       1.00      1.00      1.00       147\n",
      "        wrongSetUp       1.00      1.00      1.00        32\n",
      "            Normal       0.99      1.00      1.00     86927\n",
      "\n",
      "          accuracy                           0.99     88973\n",
      "         macro avg       1.00      0.93      0.96     88973\n",
      "      weighted avg       0.99      0.99      0.99     88973\n",
      "\n"
     ]
    }
   ],
   "source": [
    "print(classification_report(y_test,y_pred,target_names=target_names))"
   ]
  },
  {
   "cell_type": "code",
   "execution_count": 51,
   "id": "615f8a4f",
   "metadata": {},
   "outputs": [
    {
     "data": {
      "text/plain": [
       "[('rf', RandomForestClassifier()), ('nb', MultinomialNB())]"
      ]
     },
     "execution_count": 51,
     "metadata": {},
     "output_type": "execute_result"
    }
   ],
   "source": [
    "rf_nb = []\n",
    "rf_nb.append(('rf',m4))\n",
    "rf_nb.append(('nb',m5))\n",
    "rf_nb"
   ]
  },
  {
   "cell_type": "code",
   "execution_count": 54,
   "id": "ff29517c",
   "metadata": {},
   "outputs": [
    {
     "data": {
      "text/plain": [
       "0.9942117271531813"
      ]
     },
     "execution_count": 54,
     "metadata": {},
     "output_type": "execute_result"
    }
   ],
   "source": [
    "rf_nb_ensemble = VotingClassifier(rf_nb)\n",
    "rf_nb_ensemble.fit(x_train_mm, y_train)\n",
    "y_rf_nb_pred = rf_nb_ensemble.predict(x_test_mm)\n",
    "rf_nb_ensemble.score(x_test_mm,y_test)"
   ]
  },
  {
   "cell_type": "code",
   "execution_count": 57,
   "id": "035f7e8d",
   "metadata": {},
   "outputs": [
    {
     "name": "stdout",
     "output_type": "stream",
     "text": [
      "              precision    recall  f1-score   support\n",
      "\n",
      "           0       1.00      0.50      0.67      1024\n",
      "           1       1.00      1.00      1.00        66\n",
      "           2       1.00      1.00      1.00       234\n",
      "           3       1.00      1.00      1.00       168\n",
      "           4       0.99      1.00      1.00       375\n",
      "           5       1.00      1.00      1.00       147\n",
      "           6       1.00      1.00      1.00        32\n",
      "           7       0.99      1.00      1.00     86927\n",
      "\n",
      "    accuracy                           0.99     88973\n",
      "   macro avg       1.00      0.94      0.96     88973\n",
      "weighted avg       0.99      0.99      0.99     88973\n",
      "\n"
     ]
    }
   ],
   "source": [
    "print(classification_report(y_test,y_rf_nb_pred))"
   ]
  },
  {
   "cell_type": "code",
   "execution_count": 56,
   "id": "999687a8",
   "metadata": {},
   "outputs": [
    {
     "data": {
      "text/plain": [
       "array([[  512,     0,     0,     0,     0,     0,     0,   512],\n",
       "       [    0,    66,     0,     0,     0,     0,     0,     0],\n",
       "       [    0,     0,   234,     0,     0,     0,     0,     0],\n",
       "       [    0,     0,     0,   168,     0,     0,     0,     0],\n",
       "       [    0,     0,     0,     0,   375,     0,     0,     0],\n",
       "       [    0,     0,     0,     0,     0,   147,     0,     0],\n",
       "       [    0,     0,     0,     0,     0,     0,    32,     0],\n",
       "       [    1,     0,     0,     0,     2,     0,     0, 86924]],\n",
       "      dtype=int64)"
      ]
     },
     "execution_count": 56,
     "metadata": {},
     "output_type": "execute_result"
    }
   ],
   "source": [
    "confusion_matrix(y_test,y_rf_nb_pred)"
   ]
  },
  {
   "cell_type": "code",
   "execution_count": 61,
   "id": "6baa16a3",
   "metadata": {},
   "outputs": [
    {
     "data": {
      "text/plain": [
       "0.9942229665179324"
      ]
     },
     "execution_count": 61,
     "metadata": {},
     "output_type": "execute_result"
    }
   ],
   "source": [
    "rf_knn = []\n",
    "rf_knn.append(('rf',m4))\n",
    "rf_knn.append(('knn',m2))\n",
    "rf_knn.append(('nb',m5))\n",
    "rf_knn_ensemble = VotingClassifier(rf_knn)\n",
    "rf_knn_ensemble.fit(x_train_mm, y_train)\n",
    "y_rf_knn_pred = rf_nb_ensemble.predict(x_test_mm)\n",
    "rf_knn_ensemble.score(x_test_mm,y_test)"
   ]
  },
  {
   "cell_type": "code",
   "execution_count": null,
   "id": "4c0b12ed",
   "metadata": {},
   "outputs": [],
   "source": []
  },
  {
   "cell_type": "code",
   "execution_count": null,
   "id": "331fab57",
   "metadata": {},
   "outputs": [],
   "source": []
  }
 ],
 "metadata": {
  "kernelspec": {
   "display_name": "Python 3 (ipykernel)",
   "language": "python",
   "name": "python3"
  },
  "language_info": {
   "codemirror_mode": {
    "name": "ipython",
    "version": 3
   },
   "file_extension": ".py",
   "mimetype": "text/x-python",
   "name": "python",
   "nbconvert_exporter": "python",
   "pygments_lexer": "ipython3",
   "version": "3.9.6"
  }
 },
 "nbformat": 4,
 "nbformat_minor": 5
}
